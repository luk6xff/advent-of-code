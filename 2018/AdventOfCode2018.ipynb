{
 "cells": [
  {
   "cell_type": "markdown",
   "metadata": {},
   "source": [
    "[Advent of code 2018](https://adventofcode.com) - Solutions written in python provided by Lukasz Uszko (aka \"igbt6\")"
   ]
  },
  {
   "cell_type": "markdown",
   "metadata": {},
   "source": [
    "### Utility Functions"
   ]
  },
  {
   "cell_type": "code",
   "execution_count": 1,
   "metadata": {},
   "outputs": [],
   "source": [
    "## Imports\n",
    "import math\n",
    "from collections import defaultdict\n",
    "from collections import Counter\n",
    "from collections import OrderedDict\n",
    "from collections import deque\n",
    "import operator\n",
    "import re\n",
    "import functools\n",
    "import copy\n",
    "\n",
    "## Variables\n",
    "INF = float('inf')\n",
    "NAN = float('nan')\n",
    "BIG_NUM_POS = 10 ** 999\n",
    "BIG_NUM_NEG = -10 ** 999\n",
    "\n",
    "###############################################################################################\n",
    "## Input helpers, data parsers etc\n",
    "###############################################################################################\n",
    "###############################################################################################\n",
    "def input_from_file(day):\n",
    "    \"Open this day's input file.\"\n",
    "    return open('inputs/input{}.txt'.format(day))\n",
    "\n",
    "###############################################################################################\n",
    "def test_from_file(day):\n",
    "    \"Open this day's test input file.\"\n",
    "    return open('inputs/test{}.txt'.format(day))\n",
    "\n",
    "###############################################################################################\n",
    "def convert_to_matrix(input_data):\n",
    "    \"Converts input data to 2D matrix\"\n",
    "    if (isinstance(input_data, str)):\n",
    "        input_data = input_data.splitlines()\n",
    "    return [map_to_tuple(convert_input_value, line.split()) for line in input_data]\n",
    "\n",
    "###############################################################################################\n",
    "def convert_to_list(input_data):\n",
    "    \"Converts input data to list\"\n",
    "    if (isinstance(input_data, str)):\n",
    "        input_data = input_data.split().replace('\\n', '')\n",
    "    return list(map(convert_input_value, input_data))\n",
    "\n",
    "###############################################################################################\n",
    "def convert_input_value(val):\n",
    "    try:\n",
    "        return int(val)\n",
    "    except ValueError:\n",
    "        try:\n",
    "            fl = float(val)\n",
    "            if math.isnan(fl) or math.isinf(fl):\n",
    "                raise ValueError()\n",
    "            return float(val)\n",
    "        except ValueError:\n",
    "            return val\n",
    "\n",
    "###############################################################################################\n",
    "## Iterable data helpers\n",
    "###############################################################################################\n",
    "def map_to_tuple(fn, *args):\n",
    "    \"Do a map and put the results into list\"\n",
    "    return tuple(map(fn, *args))\n",
    "\n",
    "###############################################################################################"
   ]
  },
  {
   "cell_type": "markdown",
   "metadata": {},
   "source": [
    "## [DAY 1](http://adventofcode.com/2018/day/1)"
   ]
  },
  {
   "cell_type": "code",
   "execution_count": 4,
   "metadata": {},
   "outputs": [],
   "source": [
    "# input data\n",
    "input_data = convert_to_list(input_from_file(1))"
   ]
  },
  {
   "cell_type": "code",
   "execution_count": 5,
   "metadata": {},
   "outputs": [
    {
     "data": {
      "text/plain": [
       "585"
      ]
     },
     "execution_count": 5,
     "metadata": {},
     "output_type": "execute_result"
    }
   ],
   "source": [
    "## solution 1\n",
    "sum(input_data)\n"
   ]
  },
  {
   "cell_type": "code",
   "execution_count": 6,
   "metadata": {},
   "outputs": [
    {
     "data": {
      "text/plain": [
       "83173"
      ]
     },
     "execution_count": 6,
     "metadata": {},
     "output_type": "execute_result"
    }
   ],
   "source": [
    "## solution 2\n",
    "reached_sums = set()\n",
    "curr_sum = 0\n",
    "idx = 0\n",
    "while True:\n",
    "    curr_sum += input_data[idx % len(input_data)]\n",
    "    if curr_sum in reached_sums:\n",
    "        break\n",
    "    reached_sums.add(curr_sum)\n",
    "    idx += 1\n",
    "curr_sum"
   ]
  },
  {
   "cell_type": "markdown",
   "metadata": {},
   "source": [
    "## [DAY 2](http://adventofcode.com/2018/day/2)"
   ]
  },
  {
   "cell_type": "code",
   "execution_count": 84,
   "metadata": {},
   "outputs": [],
   "source": [
    "# input data\n",
    "input_data = convert_to_list(input_from_file(2))\n",
    "input_data = list(map(lambda x:x.rstrip(), input_data))"
   ]
  },
  {
   "cell_type": "code",
   "execution_count": 100,
   "metadata": {},
   "outputs": [
    {
     "data": {
      "text/plain": [
       "6972"
      ]
     },
     "execution_count": 100,
     "metadata": {},
     "output_type": "execute_result"
    }
   ],
   "source": [
    "## solution 1\n",
    "from collections import Counter as Cnt\n",
    "#print(input_data)\n",
    "\n",
    "twice = 0\n",
    "three = 0\n",
    "\n",
    "for _id in input_data:\n",
    "    d = Cnt()\n",
    "    for l in _id:\n",
    "        d[l] += 1\n",
    "    prev_twice = twice\n",
    "    prev_three = three\n",
    "    for v in d.items():\n",
    "        if prev_twice == twice and v[1] == 2:\n",
    "            twice += 1\n",
    "        elif prev_three == three and v[1] == 3:\n",
    "            three += 1\n",
    "twice * three"
   ]
  },
  {
   "cell_type": "code",
   "execution_count": 125,
   "metadata": {},
   "outputs": [
    {
     "data": {
      "text/plain": [
       "'aixwcbzrmdvpsjfgllthdyoqe'"
      ]
     },
     "execution_count": 125,
     "metadata": {},
     "output_type": "execute_result"
    }
   ],
   "source": [
    "## solution 2\n",
    "def solve(input_data):\n",
    "    for i,vi in enumerate(input_data):\n",
    "        for j,vj in enumerate(input_data):\n",
    "            if j == i:\n",
    "                continue\n",
    "            diff = list(filter(lambda x: x[0]!=x[1], zip(vi,vj)))\n",
    "            if len(diff) == 1:\n",
    "                #print(diff[0][0], diff[0][1])\n",
    "                return ''.join([x[0] for x in filter(lambda x: x[0]==x[1], zip(vi,vj))])\n",
    "                \n",
    "solve(input_data)\n",
    "    "
   ]
  },
  {
   "cell_type": "markdown",
   "metadata": {},
   "source": [
    "## [Day 3](http://adventofcode.com/2018/day/3)"
   ]
  },
  {
   "cell_type": "code",
   "execution_count": 65,
   "metadata": {},
   "outputs": [],
   "source": [
    "# input data\n",
    "input_data = convert_to_list(input_from_file(3))\n"
   ]
  },
  {
   "cell_type": "code",
   "execution_count": 65,
   "metadata": {
    "scrolled": true
   },
   "outputs": [
    {
     "data": {
      "text/plain": [
       "113716"
      ]
     },
     "execution_count": 65,
     "metadata": {},
     "output_type": "execute_result"
    }
   ],
   "source": [
    "## solution 1\n",
    "import re\n",
    "from collections import Counter as Cnt\n",
    "claims = map(lambda line : map(int, re.findall(r'-?\\d+', line)), input_data)\n",
    "\n",
    "d = Cnt()\n",
    "\n",
    "for (num, start_x, start_y, width, height) in claims:\n",
    "    for x in range(start_x, start_x+width):\n",
    "        for y in range(start_y, start_y+height):\n",
    "            d[(x,y)] += 1\n",
    "sum([1 for k,v in d.items() if v > 1])"
   ]
  },
  {
   "cell_type": "code",
   "execution_count": 75,
   "metadata": {},
   "outputs": [
    {
     "data": {
      "text/plain": [
       "742"
      ]
     },
     "execution_count": 75,
     "metadata": {},
     "output_type": "execute_result"
    }
   ],
   "source": [
    "## solution 2\n",
    "import re\n",
    "from collections import Counter as Cnt\n",
    "claims = map(lambda line : map(int, re.findall(r'-?\\d+', line)), input_data)\n",
    "\n",
    "d = Cnt()\n",
    "\n",
    "sizes = Cnt()\n",
    "d_claimed = Cnt()\n",
    "\n",
    "for (num, start_x, start_y, width, height) in claims:\n",
    "    sizes[num] = width*height\n",
    "    \n",
    "    for x in range(start_x, start_x+width):\n",
    "        for y in range(start_y, start_y+height):\n",
    "            if d[(x,y)]:\n",
    "                d[(x,y)].append(num)\n",
    "            else:\n",
    "                d[(x,y)] = [num]\n",
    "\n",
    "for k,v in d.items():\n",
    "    if len(v) == 1:\n",
    "        d_claimed[v[0]] += 1\n",
    "_id = 0\n",
    "for k,v in d_claimed.items():\n",
    "    if sizes[k] == v:\n",
    "        _id = k\n",
    "        break\n",
    "_id    "
   ]
  },
  {
   "cell_type": "markdown",
   "metadata": {},
   "source": [
    "## [Day 4](https://adventofcode.com/2018/day/4)"
   ]
  },
  {
   "cell_type": "code",
   "execution_count": 208,
   "metadata": {},
   "outputs": [],
   "source": [
    "input_data = convert_to_list(input_from_file(4))\n",
    "input_data = sorted(map(lambda l :l.split(), input_data))\n",
    "#print(input_data)"
   ]
  },
  {
   "cell_type": "code",
   "execution_count": 209,
   "metadata": {},
   "outputs": [
    {
     "data": {
      "text/plain": [
       "101194"
      ]
     },
     "execution_count": 209,
     "metadata": {},
     "output_type": "execute_result"
    }
   ],
   "source": [
    "## solution 1\n",
    "from collections import Counter as Cnt\n",
    "from datetime import datetime\n",
    "\n",
    "current_id = -1\n",
    "d_falls_asleep = Cnt()\n",
    "d_sum = Cnt()\n",
    "d_minutes = Cnt()\n",
    "for l in input_data:\n",
    "    dt = datetime.strptime(l[1].replace(']',''), '%H:%M')\n",
    "    if 'Guard' in l:\n",
    "        current_id = int(l[3][1:])\n",
    "        if current_id in d:\n",
    "            d[current_id] = 0\n",
    "    elif 'falls' in l:\n",
    "        d_falls_asleep[current_id] = dt.minute\n",
    "    elif 'wakes' in l:\n",
    "        d_sum[current_id] += (dt.minute-d_falls_asleep[current_id])\n",
    "        if current_id not in d_minutes:\n",
    "            d_minutes[current_id] = [0]*60\n",
    "        for i in range(d_falls_asleep[current_id], dt.minute):\n",
    "            d_minutes[current_id][i] += 1\n",
    "#print(d_sum)\n",
    "#print(d_minutes)\n",
    "guard_id, max_minutes_asleep = max([(k,v) for k,v in d_sum.items()], key=lambda t:t[1]) #(guard_id, max_minutes asslep)\n",
    "\n",
    "max_idx = 0\n",
    "max_val = 0\n",
    "for i,v in enumerate(d_minutes[guard_id]):\n",
    "    if v > max_val:\n",
    "        max_val = v\n",
    "        max_idx = i\n",
    "max_min_asleep_for_given_id = max_idx*guard_id\n",
    "max_min_asleep_for_given_id\n"
   ]
  },
  {
   "cell_type": "code",
   "execution_count": 210,
   "metadata": {},
   "outputs": [
    {
     "data": {
      "text/plain": [
       "102095"
      ]
     },
     "execution_count": 210,
     "metadata": {},
     "output_type": "execute_result"
    }
   ],
   "source": [
    "## solution 2\n",
    "from collections import Counter as Cnt\n",
    "from datetime import datetime\n",
    "\n",
    "current_id = -1\n",
    "d_falls_asleep = Cnt()\n",
    "d_sum = Cnt()\n",
    "d_minutes = Cnt()\n",
    "for l in input_data:\n",
    "    dt = datetime.strptime(l[1].replace(']',''), '%H:%M')\n",
    "    if 'Guard' in l:\n",
    "        current_id = int(l[3][1:])\n",
    "        if current_id in d:\n",
    "            d[current_id] = 0\n",
    "    elif 'falls' in l:\n",
    "        d_falls_asleep[current_id] = dt.minute\n",
    "    elif 'wakes' in l:\n",
    "        d_sum[current_id] += (dt.minute-d_falls_asleep[current_id])\n",
    "        if current_id not in d_minutes:\n",
    "            d_minutes[current_id] = [0]*60\n",
    "        for i in range(d_falls_asleep[current_id], dt.minute):\n",
    "            d_minutes[current_id][i] += 1\n",
    "\n",
    "max_guard_id = 0   \n",
    "max_idx = 0\n",
    "max_val = 0\n",
    "for k,v in d_minutes.items():\n",
    "    for i,val in enumerate(v):\n",
    "        if val > max_val:\n",
    "            max_guard_id = k\n",
    "            max_val = val\n",
    "            max_idx = i\n",
    "\n",
    "max_guard_id * max_idx "
   ]
  },
  {
   "cell_type": "markdown",
   "metadata": {},
   "source": [
    "## [Day 5](https://adventofcode.com/2018/day/5)"
   ]
  },
  {
   "cell_type": "code",
   "execution_count": 52,
   "metadata": {},
   "outputs": [],
   "source": [
    "input_data = input_from_file(5)\n",
    "data = convert_to_list(input_data)[0]\n",
    "#print(data)"
   ]
  },
  {
   "cell_type": "code",
   "execution_count": 59,
   "metadata": {},
   "outputs": [
    {
     "data": {
      "text/plain": [
       "10250"
      ]
     },
     "execution_count": 59,
     "metadata": {},
     "output_type": "execute_result"
    }
   ],
   "source": [
    "## solution 1\n",
    "\n",
    "stack = []\n",
    "for d in data:\n",
    "    try:\n",
    "        if (ord(d) == ord(stack[-1])+32 or ord(d) == ord(stack[-1])-32):\n",
    "            stack.pop()\n",
    "        else:\n",
    "            stack.append(d)\n",
    "    except:\n",
    "        stack.append(d)\n",
    "len(stack)  \n"
   ]
  },
  {
   "cell_type": "code",
   "execution_count": 66,
   "metadata": {},
   "outputs": [
    {
     "data": {
      "text/plain": [
       "6188"
      ]
     },
     "execution_count": 66,
     "metadata": {},
     "output_type": "execute_result"
    }
   ],
   "source": [
    "## solution 2\n",
    "\n",
    "unit_types = set()\n",
    "for d in data:\n",
    "    unit_types.add(ord(d.lower()))        \n",
    "\n",
    "lenghts = []\n",
    "for ut in unit_types:\n",
    "    d = data\n",
    "    clean = d.replace(chr(ut), '').replace(chr(ut-32), '')\n",
    "    stack = []\n",
    "    for v in clean:\n",
    "        try:\n",
    "            if (ord(v) == ord(stack[-1])+32 or ord(v) == ord(stack[-1])-32):\n",
    "                stack.pop()\n",
    "            else:\n",
    "                stack.append(v)\n",
    "        except:\n",
    "            stack.append(v)        \n",
    "                     \n",
    "    lenghts.append(len(stack))\n",
    "\n",
    "min(lenghts)\n"
   ]
  },
  {
   "cell_type": "markdown",
   "metadata": {},
   "source": [
    "## [Day 6](https://adventofcode.com/2018/day/6)"
   ]
  },
  {
   "cell_type": "code",
   "execution_count": 32,
   "metadata": {},
   "outputs": [],
   "source": [
    "input_data = convert_to_list(input_from_file(6))"
   ]
  },
  {
   "cell_type": "code",
   "execution_count": 35,
   "metadata": {},
   "outputs": [
    {
     "name": "stdout",
     "output_type": "stream",
     "text": [
      "1 8 1 9\n",
      "[1, 1]\n",
      "[1, 6]\n",
      "[8, 3]\n",
      "[3, 4]\n",
      "[5, 5]\n",
      "[8, 9]\n"
     ]
    }
   ],
   "source": [
    "## solution 1\n",
    "import re\n",
    "from collections import defaultdict \n",
    "\n",
    "d = list(map(lambda s: list(map(int, re.findall(r'-?\\d+', s))), input_data))\n",
    "\n",
    "min_x = int(min(x[0] for x in d))\n",
    "max_x = int(max(x[0] for x in d))\n",
    "min_y = int(min(x[1] for x in d))\n",
    "max_y = int(max(x[1] for x in d))\n",
    "print(min_x, max_x, min_y, max_y)\n",
    "\n",
    "for i,v in enumerate(d):\n",
    "    \n",
    "    print(v)"
   ]
  },
  {
   "cell_type": "code",
   "execution_count": 21,
   "metadata": {},
   "outputs": [],
   "source": [
    "## solution 2\n"
   ]
  },
  {
   "cell_type": "markdown",
   "metadata": {},
   "source": [
    "## [Day 7](https://adventofcode.com/2018/day/7)"
   ]
  },
  {
   "cell_type": "code",
   "execution_count": 31,
   "metadata": {},
   "outputs": [],
   "source": [
    "import re\n",
    "input_data = convert_to_list(input_from_file(7))\n",
    "d = list(map(lambda line: re.findall(r'\\s+([A-Z])\\s+', line), input_data))\n",
    "# print(d)"
   ]
  },
  {
   "cell_type": "code",
   "execution_count": 21,
   "metadata": {},
   "outputs": [
    {
     "data": {
      "text/plain": [
       "'MNQKRSFWGXPZJCOTVYEBLAHIUD'"
      ]
     },
     "execution_count": 21,
     "metadata": {},
     "output_type": "execute_result"
    }
   ],
   "source": [
    "## solution 1\n",
    "\n",
    "def make_order(instructions):\n",
    "    letters = defaultdict(set)\n",
    "    all_letters = set()\n",
    "    for v in instructions:\n",
    "        letters[v[1]].add(v[0])\n",
    "        all_letters.add(v[0])\n",
    "        all_letters.add(v[1])\n",
    "\n",
    "    all_letters = sorted(all_letters)\n",
    "    order = []\n",
    "    done = set()\n",
    "    while all_letters:\n",
    "        for i,l in enumerate(all_letters):\n",
    "            if not (letters[l] - done):\n",
    "                order.append(l)\n",
    "                done.add(l)\n",
    "                del all_letters[i]\n",
    "                break\n",
    "    return order  \n",
    "\n",
    "''.join(make_order(d))"
   ]
  },
  {
   "cell_type": "code",
   "execution_count": 32,
   "metadata": {},
   "outputs": [
    {
     "data": {
      "text/plain": [
       "948"
      ]
     },
     "execution_count": 32,
     "metadata": {},
     "output_type": "execute_result"
    }
   ],
   "source": [
    "## solution 2\n",
    "def solve(instructions):\n",
    "    letters = defaultdict(set)\n",
    "    all_letters = set()\n",
    "    for v in instructions:\n",
    "        letters[v[1]].add(v[0])\n",
    "        all_letters.add(v[0])\n",
    "        all_letters.add(v[1])\n",
    "\n",
    "    all_letters = sorted(all_letters)\n",
    "    res = 0\n",
    "    workers = {k: None for k in range(5)}\n",
    "    while all_letters or any(workers.values()):\n",
    "        for worker in workers:\n",
    "            if workers[worker]:\n",
    "                letter, step = workers[worker]\n",
    "                if step == ord(letter) - ord('A') + 61:\n",
    "                    for c in letters:\n",
    "                        if letter in letters[c]:\n",
    "                            letters[c].remove(letter)\n",
    "                    workers[worker] = None\n",
    "                else:\n",
    "                    workers[worker] = (letter, step + 1)\n",
    "        for worker in workers:\n",
    "            if not workers[worker]:\n",
    "                if all_letters:\n",
    "                    possibilities = sorted([x for x in all_letters if (x not in letters) or (len(letters[x]) == 0)])\n",
    "                    if possibilities:\n",
    "                        letter = possibilities[0]\n",
    "                        workers[worker] = (letter, 1)\n",
    "                        all_letters.remove(letter)\n",
    "        res += 1\n",
    "    return (res - 1)\n",
    "\n",
    "solve(d)"
   ]
  },
  {
   "cell_type": "markdown",
   "metadata": {},
   "source": [
    "## [Day 8](https://adventofcode.com/2018/day/8)"
   ]
  },
  {
   "cell_type": "code",
   "execution_count": 43,
   "metadata": {},
   "outputs": [],
   "source": [
    "input_data = convert_to_list(input_from_file(8))[0].split()"
   ]
  },
  {
   "cell_type": "code",
   "execution_count": 45,
   "metadata": {},
   "outputs": [
    {
     "name": "stdout",
     "output_type": "stream",
     "text": [
      "#1: 40908\n",
      "#2: 25910\n"
     ]
    }
   ],
   "source": [
    "## solution 1\n",
    "## solution 2\n",
    "from collections import defaultdict\n",
    "data = iter(int(c) for c in input_data)\n",
    "\n",
    "\n",
    "def solve(n_children, n_meta):\n",
    "    if n_children == 0:\n",
    "        return [sum(next(data) for _ in range(n_meta))] * 2\n",
    "\n",
    "    meta, value = 0, 0\n",
    "    value_children = defaultdict(int)\n",
    "\n",
    "    for n in range(n_children):\n",
    "        m, value_children[n] = solve(next(data), next(data))\n",
    "        meta += m\n",
    "    for _ in range(n_meta):\n",
    "        m = next(data)\n",
    "        meta += m\n",
    "        value += value_children[m - 1]\n",
    "\n",
    "    return meta, value\n",
    "\n",
    "\n",
    "meta, value = solve(next(data), next(data))\n",
    "print(\"#1:\", meta)\n",
    "print(\"#2:\", value)"
   ]
  },
  {
   "cell_type": "markdown",
   "metadata": {},
   "source": [
    "## [Day 9](http://adventofcode.com/2018/day/9)"
   ]
  },
  {
   "cell_type": "code",
   "execution_count": 2,
   "metadata": {},
   "outputs": [],
   "source": [
    "input_data = input_from_file(9)\n",
    "d = map(lambda line: re.findall(r'\\d+', line), input_data)\n",
    "d = map(lambda v: int(v), d)"
   ]
  },
  {
   "cell_type": "code",
   "execution_count": 4,
   "metadata": {},
   "outputs": [
    {
     "data": {
      "text/plain": [
       "399645"
      ]
     },
     "execution_count": 4,
     "metadata": {},
     "output_type": "execute_result"
    }
   ],
   "source": [
    "## solution 1\n",
    "from collections import deque, defaultdict\n",
    "\n",
    "def play_game(max_players, last_marble):\n",
    "    scores = defaultdict(int)\n",
    "    circle = deque([0])\n",
    "\n",
    "    for marble in range(1, last_marble + 1):\n",
    "        if marble % 23 == 0:\n",
    "            circle.rotate(7)\n",
    "            scores[marble % max_players] += marble + circle.pop()\n",
    "            circle.rotate(-1)\n",
    "        else:\n",
    "            circle.rotate(-1)\n",
    "            circle.append(marble)\n",
    "\n",
    "    return max(scores.values()) if scores else 0\n",
    "\n",
    "play_game(429, 70901)"
   ]
  },
  {
   "cell_type": "code",
   "execution_count": 5,
   "metadata": {},
   "outputs": [
    {
     "data": {
      "text/plain": [
       "3352507536"
      ]
     },
     "execution_count": 5,
     "metadata": {},
     "output_type": "execute_result"
    }
   ],
   "source": [
    "## solution 2\n",
    "play_game(429, 7090100)"
   ]
  },
  {
   "cell_type": "markdown",
   "metadata": {},
   "source": [
    "## [Day 10](https://adventofcode.com/2018/day/10)"
   ]
  },
  {
   "cell_type": "code",
   "execution_count": 5,
   "metadata": {},
   "outputs": [],
   "source": [
    "input_data = convert_to_list(input_from_file(10))\n",
    "import re\n",
    "P = []\n",
    "for line in input_data:\n",
    "    x,y,vx,vy = map(int, re.findall('-?\\d+', line))\n",
    "    P.append([x,y,vx,vy])\n",
    "# print(P)"
   ]
  },
  {
   "cell_type": "code",
   "execution_count": 11,
   "metadata": {},
   "outputs": [],
   "source": [
    "## solutions (solution also available in day10.py)\n",
    "seconds = 0\n",
    "for t in range(100000):\n",
    "    min_x = min([x for x,y,_,_ in P])\n",
    "    max_x = max([x for x,y,_,_ in P])\n",
    "    min_y = min([y for x,y,_,_ in P])\n",
    "    max_y = max([y for x,y,_,_ in P])\n",
    "    W = 100\n",
    "    if min_x+W >= max_x and min_y + W >= max_y:\n",
    "        # print(t,min_x, max_x, min_y, max_y)\n",
    "        for y in range(min_y, max_y+1):\n",
    "            for x in range(min_x, max_x+1):\n",
    "                if (x,y) in [(px,py) for px,py,_,_ in P]:\n",
    "                    print('#', end ='')\n",
    "                else:\n",
    "                    print('.', end ='')\n",
    "            print()\n",
    "    print(seconds)\n",
    "    seconds += 1\n",
    "    for p in P:\n",
    "        p[0] += p[2]\n",
    "        p[1] += p[3]"
   ]
  },
  {
   "cell_type": "markdown",
   "metadata": {},
   "source": [
    "## [Day 11](https://adventofcode.com/2018/day/11)"
   ]
  },
  {
   "cell_type": "code",
   "execution_count": 56,
   "metadata": {},
   "outputs": [],
   "source": [
    "input_data = input_from_file(11)\n",
    "d = int(list(input_data)[0])\n",
    "#print(d)\n",
    "\n",
    "# https://www.geeksforgeeks.org/prefix-sum-2d-array/\n",
    "# https://en.wikipedia.org/wiki/Summed-area_table"
   ]
  },
  {
   "cell_type": "code",
   "execution_count": 58,
   "metadata": {},
   "outputs": [
    {
     "data": {
      "text/plain": [
       "(21, 41)"
      ]
     },
     "execution_count": 58,
     "metadata": {},
     "output_type": "execute_result"
    }
   ],
   "source": [
    "## solution 1\n",
    "width = 300\n",
    "\n",
    "def power_level(x, y, serial_num=d):\n",
    "    rack = x + 10\n",
    "    power = rack * y\n",
    "    power += serial_num\n",
    "    power *= rack\n",
    "    return (power // 100 % 10) - 5\n",
    "\n",
    "grid = [[0 for x in range(0, width+1)] for y in range(0, width+1)]\n",
    "\n",
    "# 2d prefix sums of the grid\n",
    "for x in range(1, width + 1):\n",
    "    for y in range(1, width + 1):\n",
    "        grid[x][y] = power_level(x, y) + grid[x-1][y] + grid[x][y-1] - grid[x-1][y-1]\n",
    "#print(grid)\n",
    "\n",
    "#compute values\n",
    "best = -INF\n",
    "bx = 0\n",
    "by = 0\n",
    "s = 3\n",
    "for x in range(s, width + 1):\n",
    "    for y in range(s, width + 1):\n",
    "        total_sum = grid[x][y] - grid[x-s][y] - grid[x][y-s] + grid[x-s][y-s]\n",
    "        if total_sum > best:\n",
    "            best = total_sum\n",
    "            bx = x\n",
    "            by = y\n",
    "bx-2,by-2\n"
   ]
  },
  {
   "cell_type": "code",
   "execution_count": 57,
   "metadata": {},
   "outputs": [
    {
     "data": {
      "text/plain": [
       "(227, 199, 19)"
      ]
     },
     "execution_count": 57,
     "metadata": {},
     "output_type": "execute_result"
    }
   ],
   "source": [
    "## solution 2\n",
    "best = -INF\n",
    "bx = 0\n",
    "by = 0\n",
    "bs = 0\n",
    "for s in range(1, width + 1):\n",
    "    for x in range(s, width + 1):\n",
    "        for y in range(s, width + 1):\n",
    "            total_sum = grid[x][y] - grid[x-s][y] - grid[x][y-s] + grid[x-s][y-s]\n",
    "            if total_sum > best:\n",
    "                best = total_sum\n",
    "                bx = x\n",
    "                by = y\n",
    "                bs = s\n",
    "                \n",
    "bx-bs+1, by-bs+1, bs"
   ]
  },
  {
   "cell_type": "markdown",
   "metadata": {},
   "source": [
    "## [Day 12](https://adventofcode.com/2018/day/12)"
   ]
  },
  {
   "cell_type": "code",
   "execution_count": 140,
   "metadata": {},
   "outputs": [],
   "source": [
    "with input_from_file(12) as f:\n",
    "    d = f.read().splitlines()\n",
    "#print(d)"
   ]
  },
  {
   "cell_type": "code",
   "execution_count": 141,
   "metadata": {},
   "outputs": [
    {
     "name": "stdout",
     "output_type": "stream",
     "text": [
      "Part 1: 3738\n"
     ]
    }
   ],
   "source": [
    "## solution 1\n",
    "import copy\n",
    "shift = 30\n",
    "init_state = ['.']*shift + list(d[0][15:]) + ['.']*shift\n",
    "notes = [(d[i][:5], d[i][9]) for i in range(2, len(d))]\n",
    "#print(init_state)\n",
    "#print(notes)\n",
    "\n",
    "def find_all_substrings(string, substr):\n",
    "    start = 0\n",
    "    while True:\n",
    "        start = string.find(substr, start)\n",
    "        if start == -1:\n",
    "            return\n",
    "        yield start\n",
    "        start += 1\n",
    "    \n",
    "def run_generation(last_state, patterns):\n",
    "    new_state = ['.']*len(last_state)\n",
    "    state_str = ''.join(last_state)\n",
    "    for p in patterns:\n",
    "        # check for all occurences\n",
    "        for idx in find_all_substrings(state_str, p[0]):\n",
    "            #print(idx, p[0])\n",
    "            new_state[idx+2] = p[1]\n",
    "    return new_state\n",
    "\n",
    "state = init_state\n",
    "for i in range(20):\n",
    "    #print(state)\n",
    "    #print('{}'.format(i))\n",
    "    state = run_generation(state, notes)\n",
    "\n",
    "#print(''.join(state))\n",
    "print('Part 1:', sum([i-shift for i,x in enumerate(state) if x =='#']))"
   ]
  },
  {
   "cell_type": "code",
   "execution_count": 164,
   "metadata": {},
   "outputs": [
    {
     "name": "stdout",
     "output_type": "stream",
     "text": [
      "Part 2: 8832\n"
     ]
    }
   ],
   "source": [
    "## solution 2\n",
    "###TODO \n",
    "shift = 1000\n",
    "init_state = ['.']*shift + list(d[0][15:]) + ['.']*shift\n",
    "notes = [(d[i][:5], d[i][9]) for i in range(2, len(d))]\n",
    "state = init_state\n",
    "\n",
    "for i in range(80):\n",
    "    state = run_generation(state, notes)\n",
    "\n",
    "print('Part 2:', sum([i-shift for i,x in enumerate(state) if x =='#']))"
   ]
  },
  {
   "cell_type": "markdown",
   "metadata": {},
   "source": [
    "## [Day 13](https://adventofcode.com/2018/day/13)"
   ]
  },
  {
   "cell_type": "code",
   "execution_count": 122,
   "metadata": {},
   "outputs": [],
   "source": [
    "G = []\n",
    "for line in input_from_file(13):\n",
    "    if line:\n",
    "        G.append([c for c in line])"
   ]
  },
  {
   "cell_type": "code",
   "execution_count": 120,
   "metadata": {},
   "outputs": [
    {
     "name": "stdout",
     "output_type": "stream",
     "text": [
      "80,100\n"
     ]
    }
   ],
   "source": [
    "## solution 1\n",
    "# up, right, down, left\n",
    "DR = [-1, 0, 1, 0]\n",
    "DC = [0,1,0,-1]\n",
    "def left(d):\n",
    "    return (d+3)%4\n",
    "def right(d):\n",
    "    return (d+1)%4\n",
    "\n",
    "class Cart(object):\n",
    "    def __init__(self, r, c, d, inter):\n",
    "        self.r = r\n",
    "        self.c = c\n",
    "        self.d = d\n",
    "        self.inter = inter\n",
    "carts = []\n",
    "\n",
    "def init_carts():\n",
    "    carts.clear()\n",
    "    for r in range(len(G)):\n",
    "        for c in range(len(G[r])):\n",
    "            if G[r][c] == '^':\n",
    "                G[r][c] = '|'\n",
    "                carts.append(Cart(r,c,0,0))\n",
    "            if G[r][c] == '>':\n",
    "                G[r][c] = '-'\n",
    "                carts.append(Cart(r,c,1,0))\n",
    "            elif G[r][c] == 'v':\n",
    "                G[r][c] = '|'\n",
    "                carts.append(Cart(r,c,2,0))\n",
    "            elif G[r][c] == '<':\n",
    "                G[r][c] = '-'\n",
    "                carts.append(Cart(r,c,3,0))\n",
    "\n",
    "def show():\n",
    "    global G\n",
    "    global carts\n",
    "    for r in range(len(G)):\n",
    "        for c in range(len(G[r])):\n",
    "            has_cart = False\n",
    "            for cart in carts:\n",
    "                if cart.r == r and cart.c == c:\n",
    "                    print({0: '^', 1:'>', 2:'v', 3:'<'}[cart.d],)\n",
    "                    has_cart = True\n",
    "            if not has_cart:\n",
    "                print(G[r][c],)\n",
    "        print()\n",
    "\n",
    "\n",
    "def solve1():\n",
    "    global carts\n",
    "    init_carts()\n",
    "    while True:\n",
    "        if len(carts) == 1:\n",
    "            #print('{},{}'.format(carts[0].c, carts[0].r))\n",
    "            break\n",
    "        #show()\n",
    "        carts = sorted(carts, key=lambda cart:(cart.r, cart.c))\n",
    "        for cart in carts:\n",
    "            rr = cart.r+DR[cart.d]\n",
    "            cc = cart.c+DC[cart.d]\n",
    "            # up, right, down, left\n",
    "            if G[rr][cc] == '\\\\':\n",
    "                cart.d = {0: 3, 1:2, 2:1, 3:0}[cart.d]\n",
    "            elif G[rr][cc] == '/':\n",
    "                cart.d = {0: 1, 1:0, 2:3, 3:2}[cart.d]\n",
    "            elif G[rr][cc] == '+':\n",
    "                if cart.inter == 0:\n",
    "                    cart.d = left(cart.d)\n",
    "                elif cart.inter == 1:\n",
    "                    pass\n",
    "                elif cart.inter == 2:\n",
    "                    cart.d = right(cart.d)\n",
    "                cart.inter = (cart.inter + 1)%3\n",
    "            if (rr,cc) in [(other.r, other.c) for other in carts]:\n",
    "                carts = [other for other in carts if (other.r, other.c) not in [(cart.r, cart.c),(rr,cc)]]\n",
    "                print('{},{}'.format(cc,rr))\n",
    "                return\n",
    "            cart.r = rr\n",
    "            cart.c = cc\n",
    "            \n",
    "solve1()"
   ]
  },
  {
   "cell_type": "code",
   "execution_count": 123,
   "metadata": {},
   "outputs": [
    {
     "name": "stdout",
     "output_type": "stream",
     "text": [
      "16,99\n"
     ]
    }
   ],
   "source": [
    "## solution 2\n",
    "def solve2():\n",
    "    global carts\n",
    "    init_carts()\n",
    "    while True:\n",
    "        if len(carts) == 1:\n",
    "            print('{},{}'.format(carts[0].c, carts[0].r))\n",
    "            break\n",
    "        #show()\n",
    "        carts = sorted(carts, key=lambda cart:(cart.r, cart.c))\n",
    "        for cart in carts:\n",
    "            rr = cart.r+DR[cart.d]\n",
    "            cc = cart.c+DC[cart.d]\n",
    "            # up, right, down, left\n",
    "            if G[rr][cc] == '\\\\':\n",
    "                cart.d = {0: 3, 1:2, 2:1, 3:0}[cart.d]\n",
    "            elif G[rr][cc] == '/':\n",
    "                cart.d = {0: 1, 1:0, 2:3, 3:2}[cart.d]\n",
    "            elif G[rr][cc] == '+':\n",
    "                if cart.inter == 0:\n",
    "                    cart.d = left(cart.d)\n",
    "                elif cart.inter == 1:\n",
    "                    pass\n",
    "                elif cart.inter == 2:\n",
    "                    cart.d = right(cart.d)\n",
    "                cart.inter = (cart.inter + 1)%3\n",
    "            if (rr,cc) in [(other.r, other.c) for other in carts]:\n",
    "                carts = [other for other in carts if (other.r, other.c) not in [(cart.r, cart.c),(rr,cc)]]\n",
    "                #print('{},{}'.format(cc,rr))\n",
    "            cart.r = rr\n",
    "            cart.c = cc\n",
    "            \n",
    "solve2()"
   ]
  },
  {
   "cell_type": "markdown",
   "metadata": {},
   "source": [
    "## [Day 14](https://adventofcode.com/2018/day/14)"
   ]
  },
  {
   "cell_type": "code",
   "execution_count": 125,
   "metadata": {},
   "outputs": [
    {
     "name": "stdout",
     "output_type": "stream",
     "text": [
      "919901\n"
     ]
    }
   ],
   "source": [
    "n = int(input_from_file(14).read())\n",
    "print(n)"
   ]
  },
  {
   "cell_type": "code",
   "execution_count": 126,
   "metadata": {},
   "outputs": [
    {
     "name": "stdout",
     "output_type": "stream",
     "text": [
      "7861362411\n"
     ]
    }
   ],
   "source": [
    "## solution 1\n",
    "def step(scores, i, j):\n",
    "    s = scores[i] + scores[j]\n",
    "    if s >= 10:\n",
    "        scores.append(1)\n",
    "    scores.append(s % 10)\n",
    "    i = (i + scores[i] + 1) % len(scores)\n",
    "    j = (j + scores[j] + 1) % len(scores)\n",
    "    return (i, j)\n",
    "\n",
    "\n",
    "scores, i, j = [3, 7], 0, 1\n",
    "while len(scores) < n + 10:\n",
    "    i, j = step(scores, i, j)\n",
    "print(''.join(map(str, scores[n:n+10])))"
   ]
  },
  {
   "cell_type": "code",
   "execution_count": 127,
   "metadata": {},
   "outputs": [
    {
     "name": "stdout",
     "output_type": "stream",
     "text": [
      "20203532\n"
     ]
    }
   ],
   "source": [
    "## solution 2\n",
    "scores, i, j = [3, 7], 0, 1\n",
    "digits = list(map(int, str(n)))\n",
    "while True:\n",
    "    i, j = step(scores, i, j)\n",
    "    if scores[-len(digits)-1:-1] == digits:\n",
    "        print(len(scores) - len(digits) - 1)\n",
    "        break\n",
    "    if scores[-len(digits):] == digits:\n",
    "        print(len(scores) - len(digits))\n",
    "        break"
   ]
  },
  {
   "cell_type": "markdown",
   "metadata": {},
   "source": [
    "## [Day 15](https://adventofcode.com/2018/day/15)"
   ]
  },
  {
   "cell_type": "code",
   "execution_count": 46,
   "metadata": {},
   "outputs": [],
   "source": [
    "data = []\n",
    "for line in input_from_file(15):\n",
    "    data.append(line)\n",
    "#print(data)"
   ]
  },
  {
   "cell_type": "code",
   "execution_count": 47,
   "metadata": {},
   "outputs": [
    {
     "name": "stdout",
     "output_type": "stream",
     "text": [
      "217890\n"
     ]
    }
   ],
   "source": [
    "## solution 1\n",
    "from itertools import count\n",
    "import fileinput\n",
    "import heapq\n",
    "\n",
    "def shortest_paths(source, targets, occupied):\n",
    "    result = []\n",
    "    best = None\n",
    "    visited = set()\n",
    "    queue = [(0, 0, [source])]\n",
    "    while queue:\n",
    "        _, distance, path = heapq.heappop(queue)\n",
    "        if best and len(path) > best:\n",
    "            return result\n",
    "        node = path[-1]\n",
    "        if node in targets:\n",
    "            result.append(path)\n",
    "            best = len(path)\n",
    "            continue\n",
    "        if node in visited:\n",
    "            continue\n",
    "        visited.add(node)\n",
    "        for neighbor in adjacent({node}):\n",
    "            if neighbor in occupied:\n",
    "                continue\n",
    "            if neighbor in visited:\n",
    "                continue\n",
    "            new_path = list(path)\n",
    "            new_path.append(neighbor)\n",
    "            new_distance = distance + 1\n",
    "            estimated_distance = 0\n",
    "            # estimated_distance = min(manhattan_distance(neighbor, target)\n",
    "            #     for target in targets)\n",
    "            new_score = new_distance + estimated_distance\n",
    "            heapq.heappush(queue, (new_score, new_distance, new_path))\n",
    "    return result\n",
    "\n",
    "def manhattan_distance(a, b):\n",
    "    ay, ax = a\n",
    "    by, bx = b\n",
    "    return abs(ax - bx) + abs(ay - by)\n",
    "\n",
    "def adjacent(positions):\n",
    "    return set((y + dy, x + dx)\n",
    "        for y, x in positions\n",
    "            for dy, dx in [(-1, 0), (0, -1), (0, 1), (1, 0)])\n",
    "\n",
    "def choose_target(position, targets, occupied):\n",
    "    if not targets:\n",
    "        return None\n",
    "    if position in targets:\n",
    "        return position\n",
    "    paths = shortest_paths(position, targets, occupied)\n",
    "    ends = [x[-1] for x in paths]\n",
    "    return min(ends) if ends else None\n",
    "\n",
    "def choose_move(position, target, occupied):\n",
    "    if position == target:\n",
    "        return position\n",
    "    paths = shortest_paths(position, {target}, occupied)\n",
    "    starts = [x[1] for x in paths]\n",
    "    return min(starts) if starts else None\n",
    "\n",
    "class Unit:\n",
    "    def __init__(self, team, position):\n",
    "        self.team = team\n",
    "        self.position = position\n",
    "        self.hp = 200\n",
    "\n",
    "class Model:\n",
    "    def __init__(self, lines, elf_attack=None):\n",
    "        self.elf_attack = elf_attack\n",
    "        self.walls = set()\n",
    "        self.units = []\n",
    "        self.rounds = 0\n",
    "        for y, line in enumerate(lines):\n",
    "            for x, c in enumerate(line.strip()):\n",
    "                if c == '#':\n",
    "                    self.walls.add((y, x))\n",
    "                elif c in 'EG':\n",
    "                    self.units.append(Unit(c, (y, x)))\n",
    "    def total_hp(self):\n",
    "        return sum(x.hp for x in self.units if x.hp > 0)\n",
    "    def occupied(self, unit=None):\n",
    "        units = set(x.position for x in self.units\n",
    "            if x != unit and x.hp > 0)\n",
    "        return self.walls | units\n",
    "    def get_move(self, unit):\n",
    "        occupied = self.occupied(unit)\n",
    "        targets = set(x.position for x in self.units\n",
    "            if x.team != unit.team and x.hp > 0)\n",
    "        if not targets:\n",
    "            return None\n",
    "        in_range = adjacent(targets) - occupied\n",
    "        target = choose_target(unit.position, in_range, occupied)\n",
    "        if target is None:\n",
    "            return unit.position\n",
    "        move = choose_move(unit.position, target, occupied)\n",
    "        return move\n",
    "    def get_attack(self, unit):\n",
    "        units = [(x.hp, x.position, x) for x in self.units\n",
    "            if x.team != unit.team and x.hp > 0 and\n",
    "                manhattan_distance(unit.position, x.position) == 1]\n",
    "        return min(units)[-1] if units else None\n",
    "    def step(self):\n",
    "        units = sorted(self.units, key=lambda x: x.position)\n",
    "        for unit in units:\n",
    "            if unit.hp <= 0:\n",
    "                continue\n",
    "            move = self.get_move(unit)\n",
    "            if move is None:\n",
    "                return False\n",
    "            unit.position = move\n",
    "            attack = self.get_attack(unit)\n",
    "            if attack:\n",
    "                if self.elf_attack:\n",
    "                    if unit.team == 'G':\n",
    "                        attack.hp -= 3\n",
    "                        if attack.hp <= 0:\n",
    "                            raise Exception\n",
    "                    else:\n",
    "                        attack.hp -= self.elf_attack\n",
    "                else:\n",
    "                    attack.hp -= 3\n",
    "        self.rounds += 1\n",
    "        return True\n",
    "    def run(self):\n",
    "        while True:\n",
    "            if not self.step():\n",
    "                return self.rounds, self.total_hp()\n",
    "    def __str__(self):\n",
    "        units = dict((x.position, x) for x in self.units if x.hp > 0)\n",
    "        x0 = min(x for y, x in self.walls)\n",
    "        x1 = max(x for y, x in self.walls)\n",
    "        y0 = min(y for y, x in self.walls)\n",
    "        y1 = max(y for y, x in self.walls)\n",
    "        rows = []\n",
    "        for y in range(y0, y1 + 1):\n",
    "            row = []\n",
    "            row_units = []\n",
    "            for x in range(x0, x1 + 1):\n",
    "                c = '#' if (y, x) in self.walls else '.'\n",
    "                unit = units.get((y, x))\n",
    "                if unit:\n",
    "                    c = unit.team\n",
    "                    row_units.append(unit)\n",
    "                row.append(c)\n",
    "            row.append('   ')\n",
    "            row.append(', '.join('%s(%d)' % (unit.team, unit.hp)\n",
    "                for unit in row_units))\n",
    "            rows.append(''.join(row))\n",
    "        return '\\n'.join(rows) + '\\n'\n",
    "\n",
    "# solution 1\n",
    "rounds, hp = Model(data).run()\n",
    "print(rounds * hp)"
   ]
  },
  {
   "cell_type": "code",
   "execution_count": 45,
   "metadata": {},
   "outputs": [
    {
     "name": "stdout",
     "output_type": "stream",
     "text": [
      "43645\n"
     ]
    }
   ],
   "source": [
    "## solution 2\n",
    "for elf_attack in count(4):\n",
    "    try:\n",
    "        model = Model(data, elf_attack)\n",
    "        while True:\n",
    "            if not model.step():\n",
    "                break\n",
    "        print(model.rounds * model.total_hp())\n",
    "        break\n",
    "    except Exception:\n",
    "        pass"
   ]
  },
  {
   "cell_type": "markdown",
   "metadata": {},
   "source": [
    "## [Day 16](https://adventofcode.com/2018/day/16)"
   ]
  },
  {
   "cell_type": "code",
   "execution_count": 131,
   "metadata": {},
   "outputs": [],
   "source": [
    "input_data = input_from_file(16)\n",
    "lines,program = input_data.read().strip().split('\\n\\n\\n')\n",
    "lines = lines.strip().split('\\n')\n",
    "program = program.strip().split('\\n')"
   ]
  },
  {
   "cell_type": "code",
   "execution_count": 176,
   "metadata": {},
   "outputs": [
    {
     "name": "stdout",
     "output_type": "stream",
     "text": [
      "618\n"
     ]
    }
   ],
   "source": [
    "## solution 1\n",
    "import re\n",
    "\n",
    "addr = lambda regs,a,b,c: regs[a] + regs[b]\n",
    "addi = lambda regs,a,b,c: regs[a] + b\n",
    "mulr = lambda regs,a,b,c: regs[a] * regs[b]\n",
    "muli = lambda regs,a,b,c: regs[a] * b\n",
    "banr = lambda regs,a,b,c: regs[a] & regs[b]\n",
    "bani = lambda regs,a,b,c: regs[a] & b\n",
    "borr = lambda regs,a,b,c: regs[a] | regs[b]\n",
    "bori = lambda regs,a,b,c: regs[a] | b\n",
    "setr = lambda regs,a,b,c: regs[a]\n",
    "seti = lambda regs,a,b,c: a\n",
    "gtir = lambda regs,a,b,c: 1 if a > regs[b] else 0\n",
    "gtri = lambda regs,a,b,c: 1 if regs[a] > b else 0\n",
    "gtrr = lambda regs,a,b,c: 1 if regs[a] > regs[b] else 0\n",
    "eqir = lambda regs,a,b,c: 1 if a == regs[b] else 0\n",
    "eqri = lambda regs,a,b,c: 1 if regs[a] == b else 0\n",
    "eqrr = lambda regs,a,b,c: 1 if regs[a] == regs[b] else 0\n",
    "\n",
    "functions = [ addr, addi,\n",
    "              mulr, muli,\n",
    "              banr, bani,\n",
    "              borr, bori,\n",
    "              setr, seti,\n",
    "              gtir, gtri, gtrr,\n",
    "              eqir, eqri, eqrr\n",
    "            ]\n",
    "\n",
    "def run_opcode(regs, func_num, *args):\n",
    "    assert func_num < len(functions)\n",
    "    #print(*args)\n",
    "    regs[args[2]] = functions[func_num](regs, *args)\n",
    "\n",
    "def parse_input(data, lines):\n",
    "    for i in range(0, len(lines), 4):\n",
    "        if 'Before' in lines[i]:\n",
    "            assert 'After' in lines[i+2]\n",
    "        before = list(map(int, re.findall(r'\\d+', lines[i])))\n",
    "        instr = list(map(int, re.findall(r'\\d+', lines[i+1])))\n",
    "        after = list(map(int, re.findall(r'\\d+', lines[i+2])))\n",
    "        data.append((before, instr, after))\n",
    "    \n",
    "# solution 1\n",
    "data = []\n",
    "parse_input(data, lines)\n",
    "\n",
    "def solve(data):\n",
    "    # registers\n",
    "    opcodes_mapper = defaultdict()\n",
    "    three_or_more_opcodes_sum = 0\n",
    "    for sample in data:\n",
    "        before, instr, after = sample\n",
    "        count_three_or_more = 0\n",
    "        for func_num in range(len(functions)):\n",
    "            regs = copy.deepcopy(before)\n",
    "            run_opcode(regs, func_num, *instr[1:])\n",
    "            if regs == after:\n",
    "                count_three_or_more += 1    \n",
    "        if count_three_or_more > 2:\n",
    "            three_or_more_opcodes_sum += 1    \n",
    "    return three_or_more_opcodes_sum\n",
    "\n",
    "print(solve(data))"
   ]
  },
  {
   "cell_type": "code",
   "execution_count": 187,
   "metadata": {},
   "outputs": [
    {
     "name": "stdout",
     "output_type": "stream",
     "text": [
      "514\n"
     ]
    }
   ],
   "source": [
    "## solution 2\n",
    "\n",
    "# first workout the numbers for opcodes\n",
    "data = []\n",
    "parse_input(data, lines)\n",
    "def guess_opcodes(data):\n",
    "    # opcodes\n",
    "    opcodes = defaultdict()\n",
    "    known = set()\n",
    "    while len(known) < len(functions):\n",
    "        candidates = defaultdict()\n",
    "        for i in range(len(functions)):\n",
    "            candidates[i] = set(range(0, len(functions))) - set(known)\n",
    "        for sample in data:\n",
    "            before, instr, after = sample\n",
    "            for func_num in range(len(functions)):\n",
    "                regs = copy.deepcopy(before)\n",
    "                run_opcode(regs, func_num, *instr[1:])\n",
    "                if regs != after:\n",
    "                    candidates[instr[0]].discard(func_num)  \n",
    "        for i in range(len(functions)):\n",
    "            if len(candidates[i]) == 1:\n",
    "                func_num = candidates[i].pop()\n",
    "                opcodes[i] = func_num\n",
    "                known.add(func_num)\n",
    "    return opcodes\n",
    "\n",
    "opcodes = guess_opcodes(data)\n",
    "#print(opcodes)\n",
    "\n",
    "# second run the program\n",
    "data = []\n",
    "for l in program:\n",
    "    data.append(list(map(int, re.findall(r'\\d+', l))))\n",
    "\n",
    "def solve(data):\n",
    "    regs = [0]*4\n",
    "    for sample in data:\n",
    "        opcode, a, b, c = map(int, sample)\n",
    "        run_opcode(regs, opcodes[opcode], a, b, c)   \n",
    "    return regs[0]\n",
    "\n",
    "print(solve(data))"
   ]
  },
  {
   "cell_type": "markdown",
   "metadata": {},
   "source": [
    "## [Day 17](https://adventofcode.com/2018/day/17)"
   ]
  },
  {
   "cell_type": "code",
   "execution_count": 57,
   "metadata": {},
   "outputs": [],
   "source": [
    "input_data = input_from_file(17)\n",
    "import collections\n",
    "\n",
    "clay = collections.defaultdict(bool)\n",
    "\n",
    "for line in input_data.read().splitlines():\n",
    "    a, brange = line.split(',')\n",
    "    if a[0] == 'x':\n",
    "        x = int(a.split('=')[1])\n",
    "        y1, y2 = map(int, brange.split('=')[1].split('..'))\n",
    "\n",
    "        for y in range(y1, y2 + 1):\n",
    "            clay[(x, y)] = True\n",
    "    else:\n",
    "        y = int(a.split('=')[1])\n",
    "        x1, x2 = map(int, brange.split('=')[1].split('..'))\n",
    "\n",
    "        for x in range(x1, x2 + 1):\n",
    "            clay[(x, y)] = True    "
   ]
  },
  {
   "cell_type": "code",
   "execution_count": 5,
   "metadata": {},
   "outputs": [
    {
     "name": "stdout",
     "output_type": "stream",
     "text": [
      "31650\n"
     ]
    }
   ],
   "source": [
    "## solution 1\n",
    "\n",
    "ymin, ymax = min(clay, key=lambda p: p[1])[1], max(clay, key=lambda p: p[1])[1]\n",
    "\n",
    "settled = set()\n",
    "flowing = set()\n",
    "\n",
    "def fill(pt, direction=(0, 1)):\n",
    "    flowing.add(pt)\n",
    "\n",
    "    below = (pt[0], pt[1] + 1)\n",
    "\n",
    "    if not clay[below] and below not in flowing and 1 <= below[1] <= ymax:\n",
    "        fill(below)\n",
    "\n",
    "    if not clay[below] and below not in settled:\n",
    "        return False\n",
    "\n",
    "    left = (pt[0] - 1, pt[1])\n",
    "    right = (pt[0] + 1, pt[1])\n",
    "\n",
    "    left_filled = clay[left] or left not in flowing and fill(left, direction=(-1, 0))\n",
    "    right_filled = clay[right] or right not in flowing and fill(right, direction=(1, 0))\n",
    "\n",
    "    if direction == (0, 1) and left_filled and right_filled:\n",
    "        settled.add(pt)\n",
    "\n",
    "        while left in flowing:\n",
    "            settled.add(left)\n",
    "            left = (left[0] - 1, left[1])\n",
    "\n",
    "        while right in flowing:\n",
    "            settled.add(right)\n",
    "            right = (right[0] + 1, right[1])\n",
    "\n",
    "    return direction == (-1, 0) and (left_filled or clay[left]) or \\\n",
    "        direction == (1, 0) and (right_filled or clay[right])\n",
    "\n",
    "fill((500, 0))\n",
    "\n",
    "print(len([pt for pt in flowing | settled if ymin <= pt[1] <= ymax]))\n"
   ]
  },
  {
   "cell_type": "code",
   "execution_count": 6,
   "metadata": {},
   "outputs": [
    {
     "name": "stdout",
     "output_type": "stream",
     "text": [
      "26321\n"
     ]
    }
   ],
   "source": [
    "## solution 2\n",
    "print(len([pt for pt in settled if ymin <= pt[1] <= ymax]))"
   ]
  },
  {
   "cell_type": "markdown",
   "metadata": {},
   "source": [
    "## [Day 18](https://adventofcode.com/2018/day/18)"
   ]
  },
  {
   "cell_type": "code",
   "execution_count": 9,
   "metadata": {},
   "outputs": [],
   "source": [
    "lines = [line.strip() for line in input_from_file(18)]"
   ]
  },
  {
   "cell_type": "code",
   "execution_count": 10,
   "metadata": {},
   "outputs": [
    {
     "name": "stdout",
     "output_type": "stream",
     "text": [
      "560091\n"
     ]
    }
   ],
   "source": [
    "## solution 1\n",
    "from collections import Counter\n",
    "from itertools import count\n",
    "import fileinput\n",
    "\n",
    "\n",
    "def make_grid(lines):\n",
    "    grid = {}\n",
    "    w, h = len(lines[0]), len(lines)\n",
    "    for y, line in enumerate(lines):\n",
    "        for x, c in enumerate(line):\n",
    "            grid[(x, y)] = c\n",
    "    return w, h, grid\n",
    "\n",
    "def step(w, h, grid):\n",
    "    result = {}\n",
    "    for y in range(h):\n",
    "        for x in range(w):\n",
    "            c = grid[(x, y)]\n",
    "            neighbors = [grid.get((x + dx, y + dy), '')\n",
    "                for dy in range(-1, 2) for dx in range(-1, 2) if dy or dx]\n",
    "            counts = Counter(neighbors)\n",
    "            if c == '.':\n",
    "                # An open acre will become filled with trees if three or more\n",
    "                # adjacent acres contained trees. Otherwise, nothing happens.\n",
    "                if counts['|'] >= 3:\n",
    "                    c = '|'\n",
    "            elif c == '|':\n",
    "                # An acre filled with trees will become a lumberyard if three\n",
    "                # or more adjacent acres were lumberyards. Otherwise, nothing\n",
    "                # happens.\n",
    "                if counts['#'] >= 3:\n",
    "                    c = '#'\n",
    "            elif c == '#':\n",
    "                # An acre containing a lumberyard will remain a lumberyard if\n",
    "                # it was adjacent to at least one other lumberyard and at least\n",
    "                # one acre containing trees. Otherwise, it becomes open.\n",
    "                if counts['#'] == 0 or counts['|'] == 0:\n",
    "                    c = '.'\n",
    "            result[(x, y)] = c\n",
    "    return result\n",
    "\n",
    "def resource_value(grid):\n",
    "    counts = Counter(grid.values())\n",
    "    return counts['|'] * counts['#']\n",
    "\n",
    "# part 1\n",
    "w, h, grid = make_grid(lines)\n",
    "for i in range(10):\n",
    "    grid = step(w, h, grid)\n",
    "print(resource_value(grid))"
   ]
  },
  {
   "cell_type": "code",
   "execution_count": 11,
   "metadata": {},
   "outputs": [
    {
     "name": "stdout",
     "output_type": "stream",
     "text": [
      "202301\n"
     ]
    }
   ],
   "source": [
    "## solution 2\n",
    "w, h, grid = make_grid(lines)\n",
    "seen = {}\n",
    "prev = 0\n",
    "for i in count(1):\n",
    "    grid = step(w, h, grid)\n",
    "    v = resource_value(grid)\n",
    "    cycle = i - seen.get(v, 0)\n",
    "    if cycle == prev:\n",
    "        if 1000000000 % cycle == i % cycle:\n",
    "            print(resource_value(grid))\n",
    "            break\n",
    "    seen[v] = i\n",
    "    prev = cycle"
   ]
  },
  {
   "cell_type": "markdown",
   "metadata": {},
   "source": [
    "## [Day 19](https://adventofcode.com/2018/day/19)"
   ]
  },
  {
   "cell_type": "code",
   "execution_count": 224,
   "metadata": {},
   "outputs": [],
   "source": [
    "lines = [line.strip() for line in input_from_file(19)]"
   ]
  },
  {
   "cell_type": "code",
   "execution_count": 231,
   "metadata": {},
   "outputs": [
    {
     "name": "stdout",
     "output_type": "stream",
     "text": [
      "1920\n"
     ]
    }
   ],
   "source": [
    "functions = {\n",
    "    'addr' : lambda regs,a,b,c: regs[a] + regs[b],\n",
    "    'addi' : lambda regs,a,b,c: regs[a] + b,\n",
    "    'mulr' : lambda regs,a,b,c: regs[a] * regs[b],\n",
    "    'muli' : lambda regs,a,b,c: regs[a] * b,\n",
    "    'banr' : lambda regs,a,b,c: regs[a] & regs[b],\n",
    "    'bani' : lambda regs,a,b,c: regs[a] & b,\n",
    "    'borr' : lambda regs,a,b,c: regs[a] | regs[b],\n",
    "    'bori' : lambda regs,a,b,c: regs[a] | b,\n",
    "    'setr' : lambda regs,a,b,c: regs[a],\n",
    "    'seti' : lambda regs,a,b,c: a,\n",
    "    'gtir' : lambda regs,a,b,c: 1 if a > regs[b] else 0,\n",
    "    'gtri' : lambda regs,a,b,c: 1 if regs[a] > b else 0,\n",
    "    'gtrr' : lambda regs,a,b,c: 1 if regs[a] > regs[b] else 0,\n",
    "    'eqir' : lambda regs,a,b,c: 1 if a == regs[b] else 0,\n",
    "    'eqri' : lambda regs,a,b,c: 1 if regs[a] == b else 0,\n",
    "    'eqrr' : lambda regs,a,b,c: 1 if regs[a] == regs[b] else 0\n",
    "    }\n",
    "\n",
    "\n",
    "def run_opcode(regs, func_name, *args):\n",
    "    assert func_name in functions\n",
    "    #print(*args)\n",
    "    regs[args[2]] = functions[func_name](regs, *args)\n",
    "    \n",
    "def load_program(lines):\n",
    "    program = []\n",
    "    for line in lines:\n",
    "        if line.startswith('#ip'):\n",
    "            #print(line.split()[-1])\n",
    "            ip_reg = int(line.split()[-1])\n",
    "            continue\n",
    "        func_name = line.split()[0]\n",
    "        a, b, c = map(int, re.findall(r'\\d+', line))\n",
    "        program.append((func_name, a, b, c))\n",
    "    return ip_reg, program\n",
    "\n",
    "def run_program(regs, ip_reg, program, max_cycles = 0):\n",
    "    ip = 0\n",
    "    cycles = 0\n",
    "    while ip >= 0 and ip < len(program):\n",
    "        regs[ip_reg] = ip\n",
    "        func_name, a, b, c = program[ip] \n",
    "        run_opcode(regs, func_name, a, b, c)\n",
    "        ip = regs[ip_reg] + 1\n",
    "        cycles += 1\n",
    "        if max_cycles and cycles >= max_cycles:\n",
    "            break\n",
    "    return regs\n",
    "\n",
    "#print(lines)\n",
    "\n",
    "#solution 1\n",
    "ip_reg, program = load_program(lines)\n",
    "regs = [0]*6\n",
    "print(run_program(regs, ip_reg, program)[0]) \n",
    "        "
   ]
  },
  {
   "cell_type": "code",
   "execution_count": 233,
   "metadata": {},
   "outputs": [
    {
     "name": "stdout",
     "output_type": "stream",
     "text": [
      "19354944\n"
     ]
    }
   ],
   "source": [
    "## solution 2\n",
    "ip_reg, program = load_program(lines)\n",
    "regs = [0]*6\n",
    "regs[0] = 1\n",
    "n = max(run_program(regs, ip_reg, program, 1000))\n",
    "total = 0\n",
    "for i in range(1, n + 1):\n",
    "    if n % i == 0:\n",
    "        total += i\n",
    "print(total)"
   ]
  },
  {
   "cell_type": "markdown",
   "metadata": {},
   "source": [
    "## [Day 20](https://adventofcode.com/2018/day/20): "
   ]
  },
  {
   "cell_type": "code",
   "execution_count": 200,
   "metadata": {},
   "outputs": [],
   "source": [
    "input_data = input_from_file(20)"
   ]
  },
  {
   "cell_type": "code",
   "execution_count": 201,
   "metadata": {},
   "outputs": [
    {
     "name": "stdout",
     "output_type": "stream",
     "text": [
      "3465\n"
     ]
    }
   ],
   "source": [
    "## solution 1\n",
    "from collections import defaultdict\n",
    "\n",
    "f = input_data.read().strip(\"\\n\")\n",
    "from collections import *\n",
    "import itertools\n",
    "import random\n",
    "import sys\n",
    "import re\n",
    "\n",
    "d = {\n",
    "    \"N\": (0, -1),\n",
    "    \"E\": (1, 0),\n",
    "    \"S\": (0, 1),\n",
    "    \"W\": (-1, 0)\n",
    "}\n",
    "\n",
    "positions = []\n",
    "x, y = 5000, 5000\n",
    "m = defaultdict(set)\n",
    "prev_x, prev_y = x, y\n",
    "distances = defaultdict(int)\n",
    "dist = 0\n",
    "for c in f[1:-1]:\n",
    "    #print(c, len(positions))\n",
    "    if c == \"(\":\n",
    "        positions.append((x, y))\n",
    "    elif c == \")\":\n",
    "        x, y = positions.pop()\n",
    "    elif c == \"|\":\n",
    "        x, y = positions[-1]\n",
    "    else:\n",
    "        dx, dy = d[c]\n",
    "        x += dx\n",
    "        y += dy\n",
    "        m[(x, y)].add((prev_x, prev_y))\n",
    "        if distances[(x, y)] != 0:\n",
    "            distances[(x, y)] = min(distances[(x, y)], distances[(prev_x, prev_y)]+1)\n",
    "        else:\n",
    "            distances[(x, y)] = distances[(prev_x, prev_y)]+1\n",
    "        \n",
    "        \n",
    "    \n",
    "\n",
    "\n",
    "    prev_x, prev_y = x, y\n",
    "\n",
    "print(max(distances.values()))\n",
    "\n"
   ]
  },
  {
   "cell_type": "code",
   "execution_count": 202,
   "metadata": {},
   "outputs": [
    {
     "name": "stdout",
     "output_type": "stream",
     "text": [
      "7956\n"
     ]
    }
   ],
   "source": [
    "## solution 2\n",
    "print(len([x for x in distances.values() if x >= 1000]))"
   ]
  },
  {
   "cell_type": "markdown",
   "metadata": {},
   "source": [
    "## [Day 21](https://adventofcode.com/2018/day/21)"
   ]
  },
  {
   "cell_type": "code",
   "execution_count": 21,
   "metadata": {
    "scrolled": true
   },
   "outputs": [],
   "source": [
    "lines = [line.strip() for line in input_from_file(21)]"
   ]
  },
  {
   "cell_type": "code",
   "execution_count": 22,
   "metadata": {},
   "outputs": [
    {
     "ename": "KeyboardInterrupt",
     "evalue": "",
     "output_type": "error",
     "traceback": [
      "\u001b[0;31m---------------------------------------------------------------------------\u001b[0m",
      "\u001b[0;31mKeyboardInterrupt\u001b[0m                         Traceback (most recent call last)",
      "\u001b[0;32m<ipython-input-22-1647e797e953>\u001b[0m in \u001b[0;36m<module>\u001b[0;34m\u001b[0m\n\u001b[1;32m     54\u001b[0m \u001b[0mip_reg\u001b[0m\u001b[0;34m,\u001b[0m \u001b[0mprogram\u001b[0m \u001b[0;34m=\u001b[0m \u001b[0mload_program\u001b[0m\u001b[0;34m(\u001b[0m\u001b[0mlines\u001b[0m\u001b[0;34m)\u001b[0m\u001b[0;34m\u001b[0m\u001b[0m\n\u001b[1;32m     55\u001b[0m \u001b[0mregs\u001b[0m \u001b[0;34m=\u001b[0m \u001b[0;34m[\u001b[0m\u001b[0;36m0\u001b[0m\u001b[0;34m]\u001b[0m\u001b[0;34m*\u001b[0m\u001b[0;36m6\u001b[0m\u001b[0;34m\u001b[0m\u001b[0m\n\u001b[0;32m---> 56\u001b[0;31m \u001b[0mprint\u001b[0m\u001b[0;34m(\u001b[0m\u001b[0mrun_program\u001b[0m\u001b[0;34m(\u001b[0m\u001b[0mregs\u001b[0m\u001b[0;34m,\u001b[0m \u001b[0mip_reg\u001b[0m\u001b[0;34m,\u001b[0m \u001b[0mprogram\u001b[0m\u001b[0;34m)\u001b[0m\u001b[0;34m[\u001b[0m\u001b[0;36m0\u001b[0m\u001b[0;34m]\u001b[0m\u001b[0;34m)\u001b[0m\u001b[0;34m\u001b[0m\u001b[0m\n\u001b[0m",
      "\u001b[0;32m<ipython-input-22-1647e797e953>\u001b[0m in \u001b[0;36mrun_program\u001b[0;34m(regs, ip_reg, program, max_cycles)\u001b[0m\n\u001b[1;32m     42\u001b[0m         \u001b[0mregs\u001b[0m\u001b[0;34m[\u001b[0m\u001b[0mip_reg\u001b[0m\u001b[0;34m]\u001b[0m \u001b[0;34m=\u001b[0m \u001b[0mip\u001b[0m\u001b[0;34m\u001b[0m\u001b[0m\n\u001b[1;32m     43\u001b[0m         \u001b[0mfunc_name\u001b[0m\u001b[0;34m,\u001b[0m \u001b[0ma\u001b[0m\u001b[0;34m,\u001b[0m \u001b[0mb\u001b[0m\u001b[0;34m,\u001b[0m \u001b[0mc\u001b[0m \u001b[0;34m=\u001b[0m \u001b[0mprogram\u001b[0m\u001b[0;34m[\u001b[0m\u001b[0mip\u001b[0m\u001b[0;34m]\u001b[0m\u001b[0;34m\u001b[0m\u001b[0m\n\u001b[0;32m---> 44\u001b[0;31m         \u001b[0mrun_opcode\u001b[0m\u001b[0;34m(\u001b[0m\u001b[0mregs\u001b[0m\u001b[0;34m,\u001b[0m \u001b[0mfunc_name\u001b[0m\u001b[0;34m,\u001b[0m \u001b[0ma\u001b[0m\u001b[0;34m,\u001b[0m \u001b[0mb\u001b[0m\u001b[0;34m,\u001b[0m \u001b[0mc\u001b[0m\u001b[0;34m)\u001b[0m\u001b[0;34m\u001b[0m\u001b[0m\n\u001b[0m\u001b[1;32m     45\u001b[0m         \u001b[0mip\u001b[0m \u001b[0;34m=\u001b[0m \u001b[0mregs\u001b[0m\u001b[0;34m[\u001b[0m\u001b[0mip_reg\u001b[0m\u001b[0;34m]\u001b[0m \u001b[0;34m+\u001b[0m \u001b[0;36m1\u001b[0m\u001b[0;34m\u001b[0m\u001b[0m\n\u001b[1;32m     46\u001b[0m         \u001b[0mcycles\u001b[0m \u001b[0;34m+=\u001b[0m \u001b[0;36m1\u001b[0m\u001b[0;34m\u001b[0m\u001b[0m\n",
      "\u001b[0;32m<ipython-input-22-1647e797e953>\u001b[0m in \u001b[0;36mrun_opcode\u001b[0;34m(regs, func_name, *args)\u001b[0m\n\u001b[1;32m     22\u001b[0m     \u001b[0;32massert\u001b[0m \u001b[0mfunc_name\u001b[0m \u001b[0;32min\u001b[0m \u001b[0mfunctions\u001b[0m\u001b[0;34m\u001b[0m\u001b[0m\n\u001b[1;32m     23\u001b[0m     \u001b[0;31m#print(*args)\u001b[0m\u001b[0;34m\u001b[0m\u001b[0;34m\u001b[0m\u001b[0m\n\u001b[0;32m---> 24\u001b[0;31m     \u001b[0mregs\u001b[0m\u001b[0;34m[\u001b[0m\u001b[0margs\u001b[0m\u001b[0;34m[\u001b[0m\u001b[0;36m2\u001b[0m\u001b[0;34m]\u001b[0m\u001b[0;34m]\u001b[0m \u001b[0;34m=\u001b[0m \u001b[0mfunctions\u001b[0m\u001b[0;34m[\u001b[0m\u001b[0mfunc_name\u001b[0m\u001b[0;34m]\u001b[0m\u001b[0;34m(\u001b[0m\u001b[0mregs\u001b[0m\u001b[0;34m,\u001b[0m \u001b[0;34m*\u001b[0m\u001b[0margs\u001b[0m\u001b[0;34m)\u001b[0m\u001b[0;34m\u001b[0m\u001b[0m\n\u001b[0m\u001b[1;32m     25\u001b[0m \u001b[0;34m\u001b[0m\u001b[0m\n\u001b[1;32m     26\u001b[0m \u001b[0;32mdef\u001b[0m \u001b[0mload_program\u001b[0m\u001b[0;34m(\u001b[0m\u001b[0mlines\u001b[0m\u001b[0;34m)\u001b[0m\u001b[0;34m:\u001b[0m\u001b[0;34m\u001b[0m\u001b[0m\n",
      "\u001b[0;31mKeyboardInterrupt\u001b[0m: "
     ]
    }
   ],
   "source": [
    "functions = {\n",
    "    'addr' : lambda regs,a,b,c: regs[a] + regs[b],\n",
    "    'addi' : lambda regs,a,b,c: regs[a] + b,\n",
    "    'mulr' : lambda regs,a,b,c: regs[a] * regs[b],\n",
    "    'muli' : lambda regs,a,b,c: regs[a] * b,\n",
    "    'banr' : lambda regs,a,b,c: regs[a] & regs[b],\n",
    "    'bani' : lambda regs,a,b,c: regs[a] & b,\n",
    "    'borr' : lambda regs,a,b,c: regs[a] | regs[b],\n",
    "    'bori' : lambda regs,a,b,c: regs[a] | b,\n",
    "    'setr' : lambda regs,a,b,c: regs[a],\n",
    "    'seti' : lambda regs,a,b,c: a,\n",
    "    'gtir' : lambda regs,a,b,c: 1 if a > regs[b] else 0,\n",
    "    'gtri' : lambda regs,a,b,c: 1 if regs[a] > b else 0,\n",
    "    'gtrr' : lambda regs,a,b,c: 1 if regs[a] > regs[b] else 0,\n",
    "    'eqir' : lambda regs,a,b,c: 1 if a == regs[b] else 0,\n",
    "    'eqri' : lambda regs,a,b,c: 1 if regs[a] == b else 0,\n",
    "    'eqrr' : lambda regs,a,b,c: 1 if regs[a] == regs[b] else 0\n",
    "    }\n",
    "\n",
    "\n",
    "def run_opcode(regs, func_name, *args):\n",
    "    assert func_name in functions\n",
    "    #print(*args)\n",
    "    regs[args[2]] = functions[func_name](regs, *args)\n",
    "    \n",
    "def load_program(lines):\n",
    "    program = []\n",
    "    for line in lines:\n",
    "        if line.startswith('#ip'):\n",
    "            #print(line.split()[-1])\n",
    "            ip_reg = int(line.split()[-1])\n",
    "            continue\n",
    "        func_name = line.split()[0]\n",
    "        a, b, c = map(int, re.findall(r'\\d+', line))\n",
    "        program.append((func_name, a, b, c))\n",
    "    return ip_reg, program\n",
    "\n",
    "def run_program(regs, ip_reg, program, max_cycles = 0):\n",
    "    ip = 0\n",
    "    cycles = 0\n",
    "    while ip >= 0 and ip < len(program):\n",
    "        regs[ip_reg] = ip\n",
    "        func_name, a, b, c = program[ip] \n",
    "        run_opcode(regs, func_name, a, b, c)\n",
    "        ip = regs[ip_reg] + 1\n",
    "        cycles += 1\n",
    "        if max_cycles and cycles >= max_cycles:\n",
    "            break\n",
    "    return regs\n",
    "\n",
    "#print(lines)\n",
    "\n",
    "#solution 1\n",
    "ip_reg, program = load_program(lines)\n",
    "regs = [0]*6\n",
    "\n",
    "num = 5000000\n",
    "min_num = (0, 0)\n",
    "for i in range(num):\n",
    "    \n",
    "print(run_program(regs, ip_reg, program)[0]) "
   ]
  },
  {
   "cell_type": "code",
   "execution_count": 66,
   "metadata": {},
   "outputs": [],
   "source": [
    "## solution 2\n"
   ]
  },
  {
   "cell_type": "markdown",
   "metadata": {},
   "source": [
    "## [Day 22](https://adventofcode.com/2018/day/22)"
   ]
  },
  {
   "cell_type": "code",
   "execution_count": 67,
   "metadata": {},
   "outputs": [],
   "source": [
    "input_data = input_from_file(22)"
   ]
  },
  {
   "cell_type": "code",
   "execution_count": 235,
   "metadata": {},
   "outputs": [
    {
     "name": "stdout",
     "output_type": "stream",
     "text": [
      "9899\n",
      "1051\n"
     ]
    }
   ],
   "source": [
    "## solution 1\n",
    "import re\n",
    "def ints(s):\n",
    "    return list(map(int, re.findall(r\"-?\\d+\", s)))\n",
    "inp = \"\"\"\n",
    "depth: 7740\n",
    "target: 12,763\n",
    "\"\"\".strip()\n",
    "lines = inp.splitlines()\n",
    "depth = ints(lines[0])[0]\n",
    "tx, ty = tuple(ints(lines[1]))\n",
    "\n",
    "dp = [[None for _ in range(ty+1000)] for _ in range(tx+1000)]\n",
    "dp[0][0] = 0\n",
    "dp[tx][ty] = 0\n",
    "def erosion(x, y):\n",
    "    if dp[x][y] is not None:\n",
    "        return dp[x][y]\n",
    "    geo = None\n",
    "    if y == 0:\n",
    "        geo = x * 16807\n",
    "    elif x == 0:\n",
    "        geo = y * 48271\n",
    "    else:\n",
    "        geo = erosion(x-1, y) * erosion(x, y-1)\n",
    "    dp[x][y] = (geo + depth) % 20183\n",
    "    return dp[x][y]\n",
    "\n",
    "def risk(x, y):\n",
    "    return erosion(x, y) % 3\n",
    "\n",
    "print(sum(erosion(x, y) % 3 for x in range(tx+1) for y in range(ty+1)))\n",
    "\n",
    "# torch = 1\n",
    "import heapq\n",
    "queue = [(0, 0, 0, 1)] # (minutes, x, y, cannot)\n",
    "best = dict() # (x, y, cannot) : minutes\n",
    "\n",
    "target = (tx, ty, 1)\n",
    "while queue:\n",
    "    minutes, x, y, cannot = heapq.heappop(queue)\n",
    "    best_key = (x, y, cannot)\n",
    "    if best_key in best and best[best_key] <= minutes:\n",
    "        continue\n",
    "    best[best_key] = minutes\n",
    "    if best_key == target:\n",
    "        print(minutes)\n",
    "        break\n",
    "    for i in range(3):\n",
    "        if i != cannot and i != risk(x, y):\n",
    "            heapq.heappush(queue, (minutes + 7, x, y, i))\n",
    "    \n",
    "    # try going up down left right\n",
    "    for dx, dy in [[-1, 0], [1, 0], [0, -1], [0, 1]]:\n",
    "        newx = x + dx\n",
    "        newy = y + dy\n",
    "        if newx < 0:\n",
    "            continue\n",
    "        if newy < 0:\n",
    "            continue\n",
    "        if risk(newx, newy) == cannot:\n",
    "            continue\n",
    "        heapq.heappush(queue, (minutes + 1, newx, newy, cannot))"
   ]
  },
  {
   "cell_type": "code",
   "execution_count": 69,
   "metadata": {},
   "outputs": [],
   "source": [
    "## solution 2\n"
   ]
  },
  {
   "cell_type": "markdown",
   "metadata": {},
   "source": [
    "## [Day 23](https://adventofcode.com/2018/day/23)"
   ]
  },
  {
   "cell_type": "code",
   "execution_count": 239,
   "metadata": {},
   "outputs": [],
   "source": [
    "input_data = convert_to_list(input_from_file(23))\n",
    "#print(input_data)"
   ]
  },
  {
   "cell_type": "code",
   "execution_count": 238,
   "metadata": {},
   "outputs": [
    {
     "name": "stdout",
     "output_type": "stream",
     "text": [
      "Nearest the big bot: 584\n",
      "The max count I found was: 977\n",
      "Best location value: 71484642\n"
     ]
    }
   ],
   "source": [
    "## solution 1\n",
    "def get_bots(values):\n",
    "    r = re.compile(\"pos=<([0-9-]+),([0-9-]+),([0-9-]+)>, r=([0-9]+)\")\n",
    "    bots = []\n",
    "    for cur in values:\n",
    "        m = r.search(cur)\n",
    "        if m is None:\n",
    "            # FIX: Use the right form of print for Python 3\n",
    "            print(cur)\n",
    "        bots.append([int(x) for x in m.groups()])\n",
    "    return bots\n",
    "\n",
    "\n",
    "def calc(values):\n",
    "    bots = get_bots(values)\n",
    "    best_i = None\n",
    "    best_val = None\n",
    "    for i in range(len(bots)):\n",
    "        if best_i is None or bots[i][3] > best_val:\n",
    "            best_val = bots[i][3]\n",
    "            best_i = i\n",
    "\n",
    "    bx, by, bz, bdist = bots[best_i]\n",
    "\n",
    "    ret = 0\n",
    "\n",
    "    for i in range(len(bots)):\n",
    "        x, y, z, _dist = bots[i]\n",
    "\n",
    "        if abs(x - bx) + abs(y - by) + abs(z - bz) <= bdist:\n",
    "            ret += 1\n",
    "\n",
    "    return ret\n",
    "\n",
    "\n",
    "def calc2(values):\n",
    "    bots = get_bots(values)\n",
    "    # FIX: Adding [0] to each range to make sure it's tested for\n",
    "    xs = [x[0] for x in bots] + [0]\n",
    "    ys = [x[1] for x in bots] + [0]\n",
    "    zs = [x[2] for x in bots] + [0]\n",
    "\n",
    "    dist = 1\n",
    "    while dist < max(xs) - min(xs):\n",
    "        dist *= 2\n",
    "\n",
    "    while True:\n",
    "        target_count = 0\n",
    "        best = None\n",
    "        best_val = None\n",
    "        for x in range(min(xs), max(xs) + 1, dist):\n",
    "            for y in range(min(ys), max(ys) + 1, dist):\n",
    "                for z in range(min(zs), max(zs) + 1, dist):\n",
    "                    count = 0\n",
    "                    for bx, by, bz, bdist in bots:\n",
    "                        calc = abs(x - bx) + abs(y - by) + abs(z - bz)\n",
    "                        # FIX: Python 3 changes how div works, we want integer math here\n",
    "                        # FIX2: Deal with edge cases where the point is near the edge of the \"dist\" box\n",
    "                        if dist == 1:\n",
    "                            calc = abs(x - bx) + abs(y - by) + abs(z - bz)\n",
    "                            if calc <= bdist:\n",
    "                                count += 1\n",
    "                        else:\n",
    "                            calc = abs(x // dist - bx // dist) + abs(y // dist - by // dist) + abs(z // dist - bz // dist)\n",
    "                            if calc - 1 <= bdist // dist:\n",
    "                                count += 1\n",
    "                    if count > target_count:\n",
    "                        target_count = count\n",
    "                        best_val = abs(x) + abs(y) + abs(z)\n",
    "                        best = (x, y, z)\n",
    "                    elif count == target_count:\n",
    "                        if best_val is None or abs(x) + abs(y) + abs(z) < best_val:\n",
    "                            best_val = abs(x) + abs(y) + abs(z)\n",
    "                            best = (x, y, z)\n",
    "\n",
    "        if dist == 1:\n",
    "            print(\"The max count I found was: \" + str(target_count))\n",
    "            return best_val\n",
    "        else:\n",
    "            xs = [best[0] - dist, best[0] + dist]\n",
    "            ys = [best[1] - dist, best[1] + dist]\n",
    "            zs = [best[2] - dist, best[2] + dist]\n",
    "            # FIX: Python 3 changes how div works, we want integer math here\n",
    "            dist = dist // 2\n",
    "\n",
    "\n",
    "def run(values):\n",
    "    print(\"Nearest the big bot: \" + str(calc(values)))\n",
    "    print(\"Best location value: \" + str(calc2(values)))\n",
    "    \n",
    "run(input_data)"
   ]
  },
  {
   "cell_type": "code",
   "execution_count": 72,
   "metadata": {},
   "outputs": [],
   "source": [
    "## solution 2\n"
   ]
  },
  {
   "cell_type": "markdown",
   "metadata": {},
   "source": [
    "## [Day 24](https://adventofcode.com/2018/day/24)"
   ]
  },
  {
   "cell_type": "code",
   "execution_count": 14,
   "metadata": {},
   "outputs": [],
   "source": [
    "input_data = input_from_file(24)"
   ]
  },
  {
   "cell_type": "code",
   "execution_count": 15,
   "metadata": {},
   "outputs": [
    {
     "name": "stdout",
     "output_type": "stream",
     "text": [
      "17738\n"
     ]
    }
   ],
   "source": [
    "## solution 1\n",
    "with input_data as file:\n",
    "    inp = file.read().strip().replace(\"points with\",\"points () with\")\n",
    "\n",
    "types = ['slashing', 'fire', 'bludgeoning', 'radiation', 'cold']\n",
    "\n",
    "def parse_dmg(ss):\n",
    "    dtype = ss[ss.rfind(\" \")+1:]\n",
    "    dnum = int(ss[:ss.rfind(\" \")])\n",
    "    return [0 if ty != dtype else dnum for ty in types]\n",
    "\n",
    "def parse_res(ss):\n",
    "    tp = [1, 1, 1, 1, 1]\n",
    "    for p in ss.split(\"; \"):\n",
    "        if len(p) == 0:\n",
    "            continue\n",
    "        mul = 1\n",
    "        if p[:4] == \"weak\":\n",
    "            mul = 2\n",
    "            p = p[8:]\n",
    "        elif p[:6] == \"immune\":\n",
    "            mul = 0\n",
    "            p = p[10:]\n",
    "        for dt in p.split(\"&\"):\n",
    "            tp[types.index(dt)] = mul\n",
    "    return tp\n",
    "\n",
    "vals = inp.split(\"\\n\\n\")\n",
    "immune = vals[0]\n",
    "infect = vals[1]\n",
    "immune = [s.replace(\", \",\"&\").replace(\" units each with \",\",\").replace(\" hit points (\",\",\").replace(\") with an attack that does \",\",\").replace(\" damage at initiative \",\",\") for s in immune.split(\"\\n\")[1:]]\n",
    "infect = [s.replace(\", \",\"&\").replace(\" units each with \",\",\").replace(\" hit points (\",\",\").replace(\") with an attack that does \",\",\").replace(\" damage at initiative \",\",\") for s in infect.split(\"\\n\")[1:]]\n",
    "\n",
    "def info(v):\n",
    "    v = v.split(\",\")\n",
    "    dmg = parse_dmg(v[3])\n",
    "    return [int(v[0]),int(v[1]),parse_res(v[2]),dmg,int(v[4]),0]\n",
    "\n",
    "immune = list(map(info, immune))\n",
    "infect = list(map(info, infect))\n",
    "\n",
    "def calc_dmg(ak,df):\n",
    "    return sum(a*b for a,b in zip(ak[3],df[2]))\n",
    "\n",
    "def run_combat(immune,infect):\n",
    "    while len(immune) > 0 and len(infect) > 0:\n",
    "        for i in immune:\n",
    "            i[-1] = i[0] * max(i[3])\n",
    "        for i in infect:\n",
    "            i[-1] = i[0] * max(i[3])\n",
    "        immune.sort(key=lambda v : 1000*(-v[-1])-v[-2])\n",
    "        infect.sort(key=lambda v : 1000*(-v[-1])-v[-2])\n",
    "        \n",
    "        im_tgs = []\n",
    "        for ak in immune:\n",
    "            best_choice = (0, 100000000, 0, None)\n",
    "            for idx, df in enumerate(infect):\n",
    "                if idx in im_tgs:\n",
    "                    continue\n",
    "                tc = (calc_dmg(ak, df), df[-1], df[-2], idx)\n",
    "                if tc > best_choice:\n",
    "                    best_choice = tc\n",
    "            im_tgs.append(best_choice[3])\n",
    "            \n",
    "        if_tgs = []\n",
    "        for ak in infect:\n",
    "            best_choice = (0, 100000000, 0, None)\n",
    "            for idx, df in enumerate(immune):\n",
    "                if idx in if_tgs:\n",
    "                    continue\n",
    "                tc = (calc_dmg(ak, df), df[-1], df[-2], idx)\n",
    "                if tc > best_choice:\n",
    "                    best_choice = tc\n",
    "            if_tgs.append(best_choice[3])\n",
    "\n",
    "        all_units = []\n",
    "        for i,v in enumerate(immune):\n",
    "            all_units.append([0, i, v])\n",
    "        for i,v in enumerate(infect):\n",
    "            all_units.append([1, i, v])\n",
    "\n",
    "        all_units.sort(key=lambda v : -v[2][-2])\n",
    "        \n",
    "        alive_immune = immune[:]\n",
    "        alive_infect = infect[:]\n",
    "\n",
    "        total_deathtoll = 0\n",
    "\n",
    "        for unit in all_units:\n",
    "            if unit[0] == 0:\n",
    "                if unit[2] not in alive_immune:\n",
    "                    continue\n",
    "                if im_tgs[unit[1]] is None:\n",
    "                    continue\n",
    "                taken_damage = unit[2][0] * calc_dmg(unit[2],infect[im_tgs[unit[1]]])\n",
    "                death_toll = (taken_damage)//infect[im_tgs[unit[1]]][1]\n",
    "                infect[im_tgs[unit[1]]][0] -= death_toll\n",
    "                total_deathtoll += death_toll\n",
    "                if infect[im_tgs[unit[1]]][0] <= 0:\n",
    "                    alive_infect.remove(infect[im_tgs[unit[1]]])\n",
    "            else:\n",
    "                if unit[2] not in alive_infect:\n",
    "                    continue\n",
    "                if if_tgs[unit[1]] is None:\n",
    "                    continue\n",
    "                taken_damage = unit[2][0] * calc_dmg(unit[2],immune[if_tgs[unit[1]]])\n",
    "                death_toll = (taken_damage)//immune[if_tgs[unit[1]]][1]\n",
    "                immune[if_tgs[unit[1]]][0] -= death_toll\n",
    "                total_deathtoll += death_toll\n",
    "                if immune[if_tgs[unit[1]]][0] <= 0:\n",
    "                    alive_immune.remove(immune[if_tgs[unit[1]]])\n",
    "\n",
    "        ## Stalemate\n",
    "        if total_deathtoll == 0:\n",
    "            return False\n",
    "        \n",
    "        immune = alive_immune\n",
    "        infect = alive_infect\n",
    "\n",
    "    return tuple(map(lambda w : sum(v[0] for v in w), [infect,immune]))\n",
    "\n",
    "def dcopy(m):\n",
    "    if type(m) is list:\n",
    "        return [dcopy(d) for d in m]\n",
    "    else:\n",
    "        return m\n",
    "    \n",
    "def rboost(b):\n",
    "    im_copy = dcopy(immune)\n",
    "    if_copy = dcopy(infect)\n",
    "    for i in im_copy:\n",
    "        i[3][max(enumerate(i[3]),key=lambda v : v[1])[0]] += b\n",
    "    return run_combat(im_copy, if_copy)\n",
    "\n",
    "print(run_combat(dcopy(immune),dcopy(infect))[0])"
   ]
  },
  {
   "cell_type": "code",
   "execution_count": 16,
   "metadata": {},
   "outputs": [
    {
     "name": "stdout",
     "output_type": "stream",
     "text": [
      "3057\n"
     ]
    }
   ],
   "source": [
    "## solution 2\n",
    "low = 1\n",
    "high = 100\n",
    "while high > low:\n",
    "    mid = (high+low)//2\n",
    "    res = rboost(mid)\n",
    "    if res == False or res[1] == 0:\n",
    "        low = mid + 1\n",
    "    else:\n",
    "        high = mid\n",
    "\n",
    "print(rboost(high)[1])"
   ]
  },
  {
   "cell_type": "markdown",
   "metadata": {},
   "source": [
    "## [Day 25](https://adventofcode.com/2018/day/25)"
   ]
  },
  {
   "cell_type": "code",
   "execution_count": 17,
   "metadata": {},
   "outputs": [],
   "source": [
    "input_data = input_from_file(25)"
   ]
  },
  {
   "cell_type": "code",
   "execution_count": 19,
   "metadata": {},
   "outputs": [
    {
     "name": "stdout",
     "output_type": "stream",
     "text": [
      "338\n"
     ]
    }
   ],
   "source": [
    "## solution 1     \n",
    "import sys\n",
    "import re\n",
    "from collections import deque\n",
    "\n",
    "P = []\n",
    "for line in input_data.read().strip().split('\\n'):\n",
    "    w,x,y,z = map(int, re.findall('-?\\d+', line))\n",
    "    P.append((w,x,y,z))\n",
    "E = [set() for _ in range(len(P))]\n",
    "for i,(w1,x1,y1,z1) in enumerate(P):\n",
    "    for j,(w2,x2,y2,z2) in enumerate(P):\n",
    "        d = abs(w1-w2)+abs(x1-x2)+abs(y1-y2)+abs(z1-z2)\n",
    "        if d <= 3:\n",
    "            E[i].add(j)\n",
    "\n",
    "S = set()\n",
    "ans = 0\n",
    "for i in range(len(P)):\n",
    "    if i in S:\n",
    "        continue\n",
    "    ans += 1\n",
    "    Q = deque()\n",
    "    Q.append(i)\n",
    "    while Q:\n",
    "        x = Q.popleft()\n",
    "        if x in S:\n",
    "            continue\n",
    "        S.add(x)\n",
    "        for y in E[x]:\n",
    "            Q.append(y)\n",
    "print(ans)   "
   ]
  },
  {
   "cell_type": "code",
   "execution_count": null,
   "metadata": {},
   "outputs": [],
   "source": []
  }
 ],
 "metadata": {
  "kernelspec": {
   "display_name": "Python 3",
   "language": "python",
   "name": "python3"
  },
  "language_info": {
   "codemirror_mode": {
    "name": "ipython",
    "version": 3
   },
   "file_extension": ".py",
   "mimetype": "text/x-python",
   "name": "python",
   "nbconvert_exporter": "python",
   "pygments_lexer": "ipython3",
   "version": "3.6.5"
  }
 },
 "nbformat": 4,
 "nbformat_minor": 2
}
