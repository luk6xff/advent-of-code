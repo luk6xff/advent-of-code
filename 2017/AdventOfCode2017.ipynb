{
 "cells": [
  {
   "cell_type": "markdown",
   "metadata": {},
   "source": [
    "[Advent of code 2017](https://adventofcode.com) - Solutions written in python provided by Lukasz Uszko (aka \"igbt6\")"
   ]
  },
  {
   "cell_type": "markdown",
   "metadata": {},
   "source": [
    "### Utility Functions"
   ]
  },
  {
   "cell_type": "code",
   "execution_count": 2,
   "metadata": {
    "collapsed": true
   },
   "outputs": [],
   "source": [
    "## Imports\n",
    "import math\n",
    "from collections import defaultdict\n",
    "from collections import Counter\n",
    "from collections import OrderedDict\n",
    "from collections import deque\n",
    "import operator\n",
    "import re\n",
    "import functools\n",
    "import copy\n",
    "\n",
    "## Variables\n",
    "INF = float('inf')\n",
    "NAN = float('nan')\n",
    "BIG_NUM_POS = 10 ** 999\n",
    "BIG_NUM_NEG = -10 ** 999\n",
    "\n",
    "## Input helpers, data parsers etc\n",
    "def input_from_file(day):\n",
    "    \"Open this day's input file.\"\n",
    "    return open('input{}.txt'.format(day))\n",
    "\n",
    "def test_from_file(day):\n",
    "    \"Open this day's test input file.\"\n",
    "    return open('test{}.txt'.format(day))\n",
    "\n",
    "def convert_to_matrix(input_data):\n",
    "    \"Converts input data to 2D matrix\"\n",
    "    if (isinstance(input_data, str)):\n",
    "        input_data = input_data.splitlines()\n",
    "    return [map_to_tuple(convert_input_value, line.split()) for line in input_data]\n",
    "\n",
    "def convert_to_list(input_data):\n",
    "    \"Converts input data to list\"\n",
    "    if (isinstance(input_data, str)):\n",
    "        input_data = input_data.split().replace('\\n', '')\n",
    "    return list(map(convert_input_value, input_data))\n",
    "\n",
    "def convert_input_value(val):\n",
    "    try:\n",
    "        return int(val)\n",
    "    except ValueError:\n",
    "        try:\n",
    "            fl = float(val)\n",
    "            if math.isnan(fl) or math.isinf(fl):\n",
    "                raise ValueError()\n",
    "            return float(val)\n",
    "        except ValueError:\n",
    "            return val\n",
    "\n",
    "## Iterable data helpers\n",
    "def map_to_tuple(fn, *args):\n",
    "    \"Do a map and put the results into list\"\n",
    "    return tuple(map(fn, *args))\n"
   ]
  },
  {
   "cell_type": "markdown",
   "metadata": {},
   "source": [
    "## [DAY 1](http://adventofcode.com/2017/day/1): Inverse Captcha"
   ]
  },
  {
   "cell_type": "code",
   "execution_count": 2,
   "metadata": {
    "collapsed": true
   },
   "outputs": [],
   "source": [
    "# input data\n",
    "raw_input = \"9513446799636685297929646689682997114316733445451534532351778534251427172168183621874641711534917291674333857423799375512628489423332297538215855176592633692631974822259161766238385922277893623911332569448978771948316155868781496698895492971356383996932885518732997624253678694279666572149831616312497994856288871586777793459926952491318336997159553714584541897294117487641872629796825583725975692264125865827534677223541484795877371955124463989228886498682421539667224963783616245646832154384756663251487668681425754536722827563651327524674183443696227523828832466473538347472991998913211857749878157579176457395375632995576569388455888156465451723693767887681392547189273391948632726499868313747261828186732986628365773728583387184112323696592536446536231376615949825166773536471531487969852535699774113163667286537193767515119362865141925612849443983484245268194842563154567638354645735331855896155142741664246715666899824364722914296492444672653852387389477634257768229772399416521198625393426443499223611843766134883441223328256883497423324753229392393974622181429913535973327323952241674979677481518733692544535323219895684629719868384266425386835539719237716339198485163916562434854579365958111931354576991558771236977242668756782139961638347251644828724786827751748399123668854393894787851872256667336215726674348886747128237416273154988619267824361227888751562445622387695218161341884756795223464751862965655559143779425283154533252573949165492138175581615176611845489857169132936848668646319955661492488428427435269169173654812114842568381636982389224236455633316898178163297452453296667661849622174541778669494388167451186352488555379581934999276412919598411422973399319799937518713422398874326665375216437246445791623283898584648278989674418242112957668397484671119761553847275799873495363759266296477844157237423239163559391553961176475377151369399646747881452252547741718734949967752564774161341784833521492494243662658471121369649641815562327698395293573991648351369767162642763475561544795982183714447737149239846151871434656618825566387329765118727515699213962477996399781652131918996434125559698427945714572488376342126989157872118279163127742349\"\n",
    "data = map_to_tuple(int, raw_input)"
   ]
  },
  {
   "cell_type": "code",
   "execution_count": 3,
   "metadata": {},
   "outputs": [
    {
     "data": {
      "text/plain": [
       "1343"
      ]
     },
     "execution_count": 3,
     "metadata": {},
     "output_type": "execute_result"
    }
   ],
   "source": [
    "## solution 1\n",
    "sum(data[i] for i in range(len(data)) if data[i] == data[i-1])\n"
   ]
  },
  {
   "cell_type": "code",
   "execution_count": 4,
   "metadata": {},
   "outputs": [
    {
     "data": {
      "text/plain": [
       "1274"
      ]
     },
     "execution_count": 4,
     "metadata": {},
     "output_type": "execute_result"
    }
   ],
   "source": [
    "## solution 2\n",
    "data_len = len(data)\n",
    "sum(data[i] for i in range(data_len) if data[i] == data[i-int(data_len//2)])"
   ]
  },
  {
   "cell_type": "markdown",
   "metadata": {},
   "source": [
    "## [DAY 2](http://adventofcode.com/2017/day/2): Corruption Checksum "
   ]
  },
  {
   "cell_type": "code",
   "execution_count": 5,
   "metadata": {
    "collapsed": true
   },
   "outputs": [],
   "source": [
    "# input data\n",
    "input_array = convert_to_matrix(\"\"\"278\t1689\t250\t1512\t1792\t1974\t175\t1639\t235\t1635\t1690\t1947\t810\t224\t928\t859\n",
    "                                    160\t50\t55\t81\t68\t130\t145\t21\t211\t136\t119\t78\t174\t155\t149\t72\n",
    "                                    4284\t185\t4499\t273\t4750\t4620\t4779\t4669\t2333\t231\t416\t1603\t197\t922\t5149\t2993\n",
    "                                    120\t124\t104\t1015\t1467\t110\t299\t320\t1516\t137\t1473\t132\t1229\t1329\t1430\t392\n",
    "                                    257\t234\t3409\t2914\t2993\t3291\t368\t284\t259\t3445\t245\t1400\t3276\t339\t2207\t233\n",
    "                                    1259\t78\t811\t99\t2295\t1628\t3264\t2616\t116\t3069\t2622\t1696\t1457\t1532\t268\t82\n",
    "                                    868\t619\t139\t522\t168\t872\t176\t160\t1010\t200\t974\t1008\t1139\t552\t510\t1083\n",
    "                                    1982\t224\t3003\t234\t212\t1293\t1453\t3359\t326\t3627\t3276\t3347\t1438\t2910\t248\t2512\n",
    "                                    4964\t527\t5108\t4742\t4282\t4561\t4070\t3540\t196\t228\t3639\t4848\t152\t1174\t5005\t202\n",
    "                                    1381\t1480\t116\t435\t980\t1022\t155\t1452\t1372\t121\t128\t869\t1043\t826\t1398\t137\n",
    "                                    2067\t2153\t622\t1479\t2405\t1134\t2160\t1057\t819\t99\t106\t1628\t1538\t108\t112\t1732\n",
    "                                    4535\t2729\t4960\t241\t4372\t3960\t248\t267\t230\t5083\t827\t1843\t3488\t4762\t2294\t3932\n",
    "                                    3245\t190\t2249\t2812\t2620\t2743\t2209\t465\t139\t2757\t203\t2832\t2454\t177\t2799\t2278\n",
    "                                    1308\t797\t498\t791\t1312\t99\t1402\t1332\t521\t1354\t1339\t101\t367\t1333\t111\t92\n",
    "                                    149\t4140\t112\t3748\t148\t815\t4261\t138\t1422\t2670\t32\t334\t2029\t4750\t4472\t2010\n",
    "                                    114\t605\t94\t136\t96\t167\t553\t395\t164\t159\t284\t104\t530\t551\t544\t18\"\"\")"
   ]
  },
  {
   "cell_type": "code",
   "execution_count": 6,
   "metadata": {},
   "outputs": [
    {
     "data": {
      "text/plain": [
       "42378"
      ]
     },
     "execution_count": 6,
     "metadata": {},
     "output_type": "execute_result"
    }
   ],
   "source": [
    "## solution 1\n",
    "sum(max(row)-min(row) for row in input_array)"
   ]
  },
  {
   "cell_type": "code",
   "execution_count": 7,
   "metadata": {},
   "outputs": [
    {
     "data": {
      "text/plain": [
       "246"
      ]
     },
     "execution_count": 7,
     "metadata": {},
     "output_type": "execute_result"
    }
   ],
   "source": [
    "## solution 2\n",
    "checksum = 0\n",
    "for row in input_array:\n",
    "    for div1 in row:\n",
    "        for div2 in row:\n",
    "            if div1 > div2 and div1 // div2 == div1 / div2:\n",
    "                checksum += div1//div2\n",
    "checksum\n",
    "        "
   ]
  },
  {
   "cell_type": "markdown",
   "metadata": {},
   "source": [
    "## [Day 3](http://adventofcode.com/2017/day/3): Spiral Memory "
   ]
  },
  {
   "cell_type": "code",
   "execution_count": 8,
   "metadata": {
    "collapsed": true
   },
   "outputs": [],
   "source": [
    "# input data\n",
    "input_data = 277678\n",
    "\n",
    "from enum import Enum\n",
    "\n",
    "class Direction(Enum):\n",
    "    EAST  = (1, 0)\n",
    "    NORTH = (0, 1)\n",
    "    WEST  = (-1, 0)\n",
    "    SOUTH = (0, -1)\n",
    "\n",
    "def create_spirale(end_value):\n",
    "    spirale = {(0,0) : 1} # start point\n",
    " \n",
    "    direct = Direction.EAST # firt go right \n",
    "    x = 0\n",
    "    y = 0\n",
    "    counter = 1\n",
    "    for _ in range(end_value-1):\n",
    "        x += int(direct.value[0])\n",
    "        y += int(direct.value[1])\n",
    "        \n",
    "        if direct == Direction.EAST:\n",
    "            if (x, y+1) not in spirale:\n",
    "                direct = Direction.NORTH\n",
    "        \n",
    "        elif direct == Direction.NORTH:\n",
    "            if (x-1, y) not in spirale: \n",
    "                direct = Direction.WEST\n",
    "        \n",
    "        elif direct == Direction.WEST:        \n",
    "            if (x, y-1) not in spirale: \n",
    "                direct = Direction.SOUTH\n",
    " \n",
    "        elif direct == Direction.SOUTH:\n",
    "            if (x+1, y) not in spirale: \n",
    "                direct = Direction.EAST\n",
    "        counter += 1\n",
    "        spirale[(x,y)] = counter       \n",
    "    return spirale\n",
    "\n",
    "\n",
    "## with usage ordered dictionary\n",
    "def create_spirale_ordered(end_value):\n",
    "    spirale = OrderedDict() # start point\n",
    "    spirale[(0,0)] = 1\n",
    "    direct = Direction.EAST # firt go right \n",
    "    x = 0\n",
    "    y = 0\n",
    "    counter = 1\n",
    "    for _ in range(end_value-1):\n",
    "        x += int(direct.value[0])\n",
    "        y += int(direct.value[1])\n",
    "        \n",
    "        if direct == Direction.EAST:\n",
    "            if (x, y+1) not in spirale:\n",
    "                direct = Direction.NORTH\n",
    "        \n",
    "        elif direct == Direction.NORTH:\n",
    "            if (x-1, y) not in spirale: \n",
    "                direct = Direction.WEST\n",
    "        \n",
    "        elif direct == Direction.WEST:        \n",
    "            if (x, y-1) not in spirale: \n",
    "                direct = Direction.SOUTH\n",
    " \n",
    "        elif direct == Direction.SOUTH:\n",
    "            if (x+1, y) not in spirale: \n",
    "                direct = Direction.EAST\n",
    "        counter += 1\n",
    "        spirale[(x,y)] = counter       \n",
    "    return spirale\n",
    "\n",
    "#TEST\n",
    "#create_spirale(30)\n",
    "#create_spirale_ordered(30) "
   ]
  },
  {
   "cell_type": "code",
   "execution_count": 9,
   "metadata": {
    "scrolled": true
   },
   "outputs": [
    {
     "data": {
      "text/plain": [
       "475"
      ]
     },
     "execution_count": 9,
     "metadata": {},
     "output_type": "execute_result"
    }
   ],
   "source": [
    "## solution 1 a)\n",
    "def solve():\n",
    "    \n",
    "    steps_num = 1\n",
    "    values = [2, 4, 6, 8] # [E, N, W, S]\n",
    "    steps = [(values[0]-1)+8, (values[1]-1)+8, (values[2]-1)+8, (values[3]-1)+8] \n",
    "\n",
    "    while True:\n",
    "        for i, val in enumerate(values):\n",
    "            if val == input_data:\n",
    "                return steps_num\n",
    "        \n",
    "            if (val+steps_num >= input_data):\n",
    "                return steps_num + (input_data - val)\n",
    "            elif (val-steps_num >= input_data):\n",
    "                return steps_num + (val - input_data)\n",
    "        \n",
    "        for i, val in enumerate(values):\n",
    "            values[i] += steps[i]\n",
    "            steps[i] += 8\n",
    "        steps_num += 1\n",
    "solve()\n",
    "\n",
    "## solution 1 b)\n",
    "distance = 0\n",
    "spirale = create_spirale(input_data)\n",
    "for idx, val in spirale.items():\n",
    "    if val == input_data:\n",
    "        distance = abs(idx[0]) + abs(idx[1])\n",
    "distance\n",
    "\n",
    "## solution 1 c)\n",
    "distance = 0\n",
    "idx = create_spirale_ordered(input_data).popitem()\n",
    "distance = abs(idx[0][0]) + abs(idx[0][1])\n",
    "distance"
   ]
  },
  {
   "cell_type": "code",
   "execution_count": 10,
   "metadata": {},
   "outputs": [
    {
     "data": {
      "text/plain": [
       "279138"
      ]
     },
     "execution_count": 10,
     "metadata": {},
     "output_type": "execute_result"
    }
   ],
   "source": [
    "## solution 2\n",
    "# I will modify my spirale generator with Counter usage\n",
    "def create_spirale_countered(end_value):\n",
    "    spirale = Counter() # start point\n",
    "    spirale[(0,0)] = 1\n",
    "    direct = Direction.EAST # firt go right \n",
    "    x = 0\n",
    "    y = 0\n",
    "    while True:\n",
    "        x += int(direct.value[0])\n",
    "        y += int(direct.value[1])\n",
    "        \n",
    "        if direct == Direction.EAST:\n",
    "            if (x, y+1) not in spirale:\n",
    "                direct = Direction.NORTH\n",
    "        \n",
    "        elif direct == Direction.NORTH:\n",
    "            if (x-1, y) not in spirale: \n",
    "                direct = Direction.WEST\n",
    "        \n",
    "        elif direct == Direction.WEST:        \n",
    "            if (x, y-1) not in spirale: \n",
    "                direct = Direction.SOUTH\n",
    " \n",
    "        elif direct == Direction.SOUTH:\n",
    "            if (x+1, y) not in spirale: \n",
    "                direct = Direction.EAST\n",
    "        spirale[(x,y)] = spirale[(x-1,y)] + spirale[(x-1,y-1)] + spirale[(x-1,y+1)] \\\n",
    "                         + spirale[(x,y-1)] + spirale[(x,y+1)] + spirale[(x+1,y)]   \\\n",
    "                         + spirale[(x+1,y-1)] + spirale[(x+1,y+1)]\n",
    "        if spirale[(x,y)] > end_value:\n",
    "            break\n",
    "    return spirale\n",
    "\n",
    "spirale = create_spirale_countered(input_data)\n",
    "import operator\n",
    "spirale_sorted = sorted (spirale.items(), key=operator.itemgetter(1), reverse = True)\n",
    "spirale_sorted[0][1]"
   ]
  },
  {
   "cell_type": "markdown",
   "metadata": {},
   "source": [
    "## [Day 4](https://adventofcode.com/2017/day/4): High-Entropy Passphrases"
   ]
  },
  {
   "cell_type": "code",
   "execution_count": 11,
   "metadata": {
    "collapsed": true
   },
   "outputs": [],
   "source": [
    "input_data = convert_to_matrix(input_from_file(4))"
   ]
  },
  {
   "cell_type": "code",
   "execution_count": 12,
   "metadata": {},
   "outputs": [
    {
     "data": {
      "text/plain": [
       "451"
      ]
     },
     "execution_count": 12,
     "metadata": {},
     "output_type": "execute_result"
    }
   ],
   "source": [
    "## solution 1\n",
    "sum(map(lambda phrase : len(phrase) == len(set(phrase)), input_data))    "
   ]
  },
  {
   "cell_type": "code",
   "execution_count": 13,
   "metadata": {},
   "outputs": [
    {
     "data": {
      "text/plain": [
       "223"
      ]
     },
     "execution_count": 13,
     "metadata": {},
     "output_type": "execute_result"
    }
   ],
   "source": [
    "## solution 2\n",
    "suma = 0\n",
    "for phrase in input_data:\n",
    "    cntList = []\n",
    "    for word in phrase:\n",
    "        cntList.append(tuple(sorted(Counter(word).items(), key=operator.itemgetter(0))))\n",
    "    #print(cntList)\n",
    "    if len(cntList) == len(set(cntList)):\n",
    "        suma += 1\n",
    "suma"
   ]
  },
  {
   "cell_type": "markdown",
   "metadata": {},
   "source": [
    "## [Day 5](https://adventofcode.com/2017/day/5): A Maze of Twisty Trampolines, All Alike"
   ]
  },
  {
   "cell_type": "code",
   "execution_count": 14,
   "metadata": {
    "collapsed": true
   },
   "outputs": [],
   "source": [
    "input_data = convert_to_list(input_from_file(5))"
   ]
  },
  {
   "cell_type": "code",
   "execution_count": 15,
   "metadata": {},
   "outputs": [
    {
     "data": {
      "text/plain": [
       "372671"
      ]
     },
     "execution_count": 15,
     "metadata": {},
     "output_type": "execute_result"
    }
   ],
   "source": [
    "## solution 1\n",
    "jumps = input_data[:]\n",
    "pc = 0\n",
    "steps = 0\n",
    "while True:\n",
    "    try:\n",
    "        tmp = pc\n",
    "        pc += jumps[pc]\n",
    "        jumps[tmp] += 1\n",
    "        steps += 1\n",
    "    except IndexError as error:\n",
    "        break\n",
    "steps"
   ]
  },
  {
   "cell_type": "code",
   "execution_count": 16,
   "metadata": {},
   "outputs": [
    {
     "data": {
      "text/plain": [
       "25608480"
      ]
     },
     "execution_count": 16,
     "metadata": {},
     "output_type": "execute_result"
    }
   ],
   "source": [
    "## solution 2\n",
    "jumps = input_data[:]\n",
    "pc = 0\n",
    "steps = 0\n",
    "while True:\n",
    "    try:\n",
    "        tmp = pc\n",
    "        pc += jumps[pc]\n",
    "        if jumps[tmp] >= 3:\n",
    "            jumps[tmp] -= 1\n",
    "        else:\n",
    "            jumps[tmp] += 1\n",
    "        steps += 1\n",
    "    except IndexError as error:\n",
    "        break\n",
    "steps"
   ]
  },
  {
   "cell_type": "markdown",
   "metadata": {},
   "source": [
    "## [Day 6](https://adventofcode.com/2017/day/6): Memory Reallocation"
   ]
  },
  {
   "cell_type": "code",
   "execution_count": 17,
   "metadata": {
    "collapsed": true
   },
   "outputs": [],
   "source": [
    "input_data = convert_to_list(input_from_file(6))\n",
    "input_data = list(map(int, input_data[0].split()))"
   ]
  },
  {
   "cell_type": "code",
   "execution_count": 18,
   "metadata": {},
   "outputs": [
    {
     "data": {
      "text/plain": [
       "7864"
      ]
     },
     "execution_count": 18,
     "metadata": {},
     "output_type": "execute_result"
    }
   ],
   "source": [
    "## solution 1\n",
    "start_block = input_data[:]\n",
    "memory_block = input_data[:]\n",
    "N = len(memory_block)\n",
    "cycles = 0\n",
    "memory_set = []\n",
    "\n",
    "while True:\n",
    "    memory_set.append(memory_block[:])\n",
    "    max_idx, max_val = max(enumerate(memory_block), key=operator.itemgetter(1))\n",
    "    #print(max_idx, max_val)\n",
    "    c_idx = max_idx + 1\n",
    "    while max_val > 0:\n",
    "        memory_block[c_idx % N] += 1\n",
    "        c_idx += 1\n",
    "        memory_block[max_idx] -= 1\n",
    "        max_val -= 1\n",
    "    cycles += 1\n",
    "    if any(memory_block == b for b in memory_set):\n",
    "        break\n",
    "cycles"
   ]
  },
  {
   "cell_type": "code",
   "execution_count": 19,
   "metadata": {},
   "outputs": [
    {
     "data": {
      "text/plain": [
       "1695"
      ]
     },
     "execution_count": 19,
     "metadata": {},
     "output_type": "execute_result"
    }
   ],
   "source": [
    "## solution 2\n",
    "start_block = input_data[:]\n",
    "memory_block = input_data[:]\n",
    "N = len(memory_block)\n",
    "cycles = 0\n",
    "memory_set = []\n",
    "\n",
    "while True:\n",
    "    memory_set.append(memory_block[:])\n",
    "    max_idx, max_val = max(enumerate(memory_block), key=operator.itemgetter(1))\n",
    "    c_idx = max_idx + 1\n",
    "    while max_val > 0:\n",
    "        memory_block[c_idx % N] += 1\n",
    "        c_idx += 1\n",
    "        memory_block[max_idx] -= 1\n",
    "        max_val -= 1\n",
    "    cycles += 1\n",
    "    if memory_block[:] in memory_set:\n",
    "        cycles = cycles - memory_set.index(memory_block[:])  \n",
    "        break\n",
    "cycles"
   ]
  },
  {
   "cell_type": "markdown",
   "metadata": {},
   "source": [
    "## [Day 7](https://adventofcode.com/2017/day/7): Recursive Circus"
   ]
  },
  {
   "cell_type": "code",
   "execution_count": 41,
   "metadata": {
    "collapsed": true
   },
   "outputs": [],
   "source": [
    "input_data = convert_to_list(input_from_file(7))"
   ]
  },
  {
   "cell_type": "code",
   "execution_count": 52,
   "metadata": {},
   "outputs": [
    {
     "data": {
      "text/plain": [
       "'rqwgj'"
      ]
     },
     "execution_count": 52,
     "metadata": {},
     "output_type": "execute_result"
    }
   ],
   "source": [
    "## solution 1\n",
    "pattern = re.compile(r'^([a-z]+) \\(([0-9]+)\\)[ ->]*((\\s*[a-z]*,*)+)$')\n",
    "programs = {}\n",
    "for input_line in input_data:\n",
    "    m = re.match(pattern, input_line)\n",
    "    if m is not None:\n",
    "        program = m.group(1)\n",
    "        weight = int(m.group(2))\n",
    "        if program in programs.keys():\n",
    "            programs[program]['weight'] = weight  \n",
    "        else:\n",
    "            programs[program] = {'weight':weight, 'parent':None, 'children':[]}\n",
    "        children = m.group(3).replace('\\n', '').replace(' ', '').split(',')\n",
    "        if len(children) > 0:\n",
    "            programs[program]['children'] = children\n",
    "            for child in programs[program]['children']:\n",
    "                if child in programs.keys():\n",
    "                    programs[child]['parent'] = program\n",
    "                else:\n",
    "                    programs[child] = {'weight':0, 'parent':program, 'children':[]}\n",
    "bottom_program = ''\n",
    "for name, params in programs.items():\n",
    "    if params['parent'] == None:\n",
    "        bottom_program = name\n",
    "        break\n",
    "bottom_program"
   ]
  },
  {
   "cell_type": "code",
   "execution_count": 61,
   "metadata": {},
   "outputs": [
    {
     "name": "stdout",
     "output_type": "stream",
     "text": [
      "weight_to_balance: [333]\n"
     ]
    },
    {
     "data": {
      "text/plain": [
       "333"
      ]
     },
     "execution_count": 61,
     "metadata": {},
     "output_type": "execute_result"
    }
   ],
   "source": [
    "## solution 2\n",
    "    \n",
    "def sum_node_weight(node_name, balance_diff):\n",
    "    ''' returns sum of all nodes, searching for not balanced weight '''\n",
    "    if node_name not in programs.keys():\n",
    "        return 0\n",
    "    node_weight = programs[node_name]['weight']\n",
    "    children_weight = []\n",
    "    children_weight_name = []\n",
    "    for ch in programs[node_name]['children']:\n",
    "        children_weight.append(sum_node_weight(ch, balance_diff))\n",
    "        children_weight_name.append(ch)\n",
    "    # check if all children has the same weight only if difference not already found\n",
    "    if len(balance_diff) == 0: #pass balance_diff as list\n",
    "        if children_weight[1:] != children_weight[:-1]:\n",
    "            #print('{} :children not equal'.format(node_name))\n",
    "            balanced_node_weight = Counter(children_weight).most_common(1)[0][0]\n",
    "            not_equal_node_name = ''\n",
    "            for i, w in enumerate(children_weight):\n",
    "                if w != balanced_node_weight:\n",
    "                    not_balanced_weight = w\n",
    "                    not_balanced_node_name = children_weight_name[i]\n",
    "                    if not_balanced_weight > balanced_node_weight:\n",
    "                        balance_diff.append(programs[not_balanced_node_name]['weight'] - \\\n",
    "                                            (not_balanced_weight - balanced_node_weight))\n",
    "                    else:\n",
    "                        balance_diff.append(programs[not_balanced_node_name]['weight'] - \\\n",
    "                                            (balanced_node_weight - not_balanced_weight))\n",
    "                    print(\"weight_to_balance: {}\".format(balance_diff))    \n",
    "    return sum(children_weight) + node_weight\n",
    "\n",
    "balance_difference = []\n",
    "sum_node_weight(bottom_program, balance_difference)\n",
    "balance_difference[0]"
   ]
  },
  {
   "cell_type": "markdown",
   "metadata": {},
   "source": [
    "## [Day 8](https://adventofcode.com/2017/day/8): I Heard You Like Registers"
   ]
  },
  {
   "cell_type": "code",
   "execution_count": 24,
   "metadata": {
    "collapsed": true
   },
   "outputs": [],
   "source": [
    "input_data = convert_to_list(input_from_file(8))"
   ]
  },
  {
   "cell_type": "code",
   "execution_count": 24,
   "metadata": {},
   "outputs": [
    {
     "data": {
      "text/plain": [
       "4902"
      ]
     },
     "execution_count": 24,
     "metadata": {},
     "output_type": "execute_result"
    }
   ],
   "source": [
    "## solution 1\n",
    "registers = Counter()\n",
    "highest_value = BIG_NUM_NEG\n",
    "for line in input_data:\n",
    "    reg, instr, val, _if, cond_reg, cond_sign, cond_val = line.split()\n",
    "    cond_result = False\n",
    "    cond_val = int(cond_val)\n",
    "    val = int(val)\n",
    "    if cond_sign == '>':\n",
    "        if registers[cond_reg] > cond_val:\n",
    "            cond_result = True\n",
    "    elif cond_sign == '<':\n",
    "        if registers[cond_reg] < cond_val:\n",
    "            cond_result = True\n",
    "    elif cond_sign == '>=':\n",
    "        if registers[cond_reg] >= cond_val:\n",
    "            cond_result = True \n",
    "    elif cond_sign == '<=':\n",
    "        if registers[cond_reg] <= cond_val:\n",
    "            cond_result = True \n",
    "    elif cond_sign == '==':\n",
    "        if registers[cond_reg] == cond_val:\n",
    "            cond_result = True \n",
    "    elif cond_sign == '!=':\n",
    "        if registers[cond_reg] != cond_val:\n",
    "            cond_result = True\n",
    "    \n",
    "    if cond_result:\n",
    "        if instr == 'inc':\n",
    "            registers[reg] += val\n",
    "        elif instr == 'dec':\n",
    "            registers[reg] -= val\n",
    "    \n",
    "    ## solution 2\n",
    "    if registers[reg] > highest_value:\n",
    "        highest_value = registers[reg]\n",
    "    \n",
    "max(val for reg, val in registers.items())\n",
    "    "
   ]
  },
  {
   "cell_type": "code",
   "execution_count": 25,
   "metadata": {},
   "outputs": [
    {
     "data": {
      "text/plain": [
       "7037"
      ]
     },
     "execution_count": 25,
     "metadata": {},
     "output_type": "execute_result"
    }
   ],
   "source": [
    "## solution 2\n",
    "highest_value"
   ]
  },
  {
   "cell_type": "markdown",
   "metadata": {},
   "source": [
    "## [Day 9](http://adventofcode.com/2017/day/9): Stream Processing"
   ]
  },
  {
   "cell_type": "code",
   "execution_count": 26,
   "metadata": {
    "collapsed": true
   },
   "outputs": [],
   "source": [
    "input_data = convert_to_list(input_from_file(9)) \n",
    "#print(input_data)"
   ]
  },
  {
   "cell_type": "code",
   "execution_count": 27,
   "metadata": {},
   "outputs": [
    {
     "data": {
      "text/plain": [
       "11347"
      ]
     },
     "execution_count": 27,
     "metadata": {},
     "output_type": "execute_result"
    }
   ],
   "source": [
    "## solution 1\n",
    "groups_num = 0\n",
    "for line in input_data:\n",
    "    # cleanup input data\n",
    "    #print(\"x---x\"+line)\n",
    "    line = re.sub(r'!.', '', line)   # delete invalid charcters\n",
    "    #print(\"y---y\"+line)\n",
    "    line = re.sub(r'<.*?>', '', line) # remove garbages\n",
    "    current_num = 0\n",
    "    groups_num = 0\n",
    "    #print(\"z---z\"+line)\n",
    "    for ch in line:\n",
    "        if ch == '{':\n",
    "            current_num += 1\n",
    "        elif ch == '}':\n",
    "            groups_num += current_num\n",
    "            current_num -= 1     \n",
    "groups_num "
   ]
  },
  {
   "cell_type": "code",
   "execution_count": 28,
   "metadata": {},
   "outputs": [
    {
     "data": {
      "text/plain": [
       "5404"
      ]
     },
     "execution_count": 28,
     "metadata": {},
     "output_type": "execute_result"
    }
   ],
   "source": [
    "## solution 2\n",
    "garbages_num = 0\n",
    "input_line = input_data[0]\n",
    "\n",
    "# cleanup input data\n",
    "input_line = re.sub(r'!.', '', input_line)   # delete invalid charcters\n",
    "garbage_opened = False\n",
    "garbages_num = 0\n",
    "for ch in input_line:\n",
    "    if ch == '>':\n",
    "        garbage_opened = False  \n",
    "    if garbage_opened:\n",
    "        garbages_num += 1           \n",
    "    elif ch == '<':\n",
    "        garbage_opened = True\n",
    "garbages_num"
   ]
  },
  {
   "cell_type": "markdown",
   "metadata": {},
   "source": [
    "## [Day 10](https://adventofcode.com/2017/day/10): Knot Hash"
   ]
  },
  {
   "cell_type": "code",
   "execution_count": 29,
   "metadata": {
    "collapsed": true
   },
   "outputs": [],
   "source": [
    "input_data = [14,58,0,116,179,16,1,104,2,254,167,86,255,55,122,244]\n",
    "#input_data = [3, 4, 1, 5] test"
   ]
  },
  {
   "cell_type": "code",
   "execution_count": 30,
   "metadata": {},
   "outputs": [
    {
     "data": {
      "text/plain": [
       "1935"
      ]
     },
     "execution_count": 30,
     "metadata": {},
     "output_type": "execute_result"
    }
   ],
   "source": [
    "## solution 1\n",
    "def hash_data(lengths):\n",
    "    #list_size = 5 test\n",
    "    list_size = 256\n",
    "    cur_pos = 0 # current position\n",
    "    skip_size = 0\n",
    "    hashed_data = [i for i in range(list_size)]    \n",
    "    for length in lengths:\n",
    "        copy = [hashed_data[(cur_pos+i)%list_size] for i in range(length)][::-1]\n",
    "        #print(copy)\n",
    "        for i, val in enumerate(copy):\n",
    "            hashed_data[(cur_pos+i)%list_size] = val\n",
    "        cur_pos += (length + skip_size) % list_size\n",
    "        skip_size += 1\n",
    "        #print(hashed_data)\n",
    "    return hashed_data\n",
    "h_data = hash_data(input_data)\n",
    "# result:\n",
    "h_data[0] * h_data[1]"
   ]
  },
  {
   "cell_type": "code",
   "execution_count": 31,
   "metadata": {},
   "outputs": [
    {
     "data": {
      "text/plain": [
       "'dc7e7dee710d4c7201ce42713e6b8359'"
      ]
     },
     "execution_count": 31,
     "metadata": {},
     "output_type": "execute_result"
    }
   ],
   "source": [
    "## solution 2\n",
    "input_data = \"14,58,0,116,179,16,1,104,2,254,167,86,255,55,122,244\".replace(\" \", \"\") # length table\n",
    "def knot_hash_algorithm(lengths):\n",
    "    # convert to ascii\n",
    "    # ascii_lengths = ','.join([str(ch) for ch in lengths]) #in case of 'lengths' passed as a list\n",
    "    ascii_lengths = [ord(ch) for ch in lengths] + [17, 31, 73, 47, 23]\n",
    "    list_size = 256\n",
    "    cur_pos = 0 # current position\n",
    "    skip_size = 0\n",
    "    hashed_data = [i for i in range(list_size)]\n",
    "    for _ in range(64): # 64 rounds of the algo\n",
    "        for length in ascii_lengths:\n",
    "            copy = [hashed_data[(cur_pos+i)%list_size] for i in range(length)][::-1]\n",
    "            for i, val in enumerate(copy):\n",
    "                hashed_data[(cur_pos+i)%list_size] = val\n",
    "            cur_pos += (length + skip_size) % list_size\n",
    "            skip_size += 1\n",
    "    dense_hash = []\n",
    "    # xor all\n",
    "    for i in range(0, list_size, 16):\n",
    "        dense_hash.append(functools.reduce(lambda x,y: operator.xor(x,y), hashed_data[i:i+16]))\n",
    "    # convert to hex\n",
    "    return ''.join(map(\"{:02x}\".format, dense_hash))\n",
    "\n",
    "# get result\n",
    "knot_hash_algorithm(input_data)"
   ]
  },
  {
   "cell_type": "markdown",
   "metadata": {},
   "source": [
    "## [Day 11](https://adventofcode.com/2017/day/11): Hex Ed"
   ]
  },
  {
   "cell_type": "code",
   "execution_count": 32,
   "metadata": {
    "collapsed": true
   },
   "outputs": [],
   "source": [
    "input_data = convert_to_list(input_from_file(11))\n",
    "input_data = input_data[0].split(',')"
   ]
  },
  {
   "cell_type": "code",
   "execution_count": 33,
   "metadata": {},
   "outputs": [
    {
     "data": {
      "text/plain": [
       "707"
      ]
     },
     "execution_count": 33,
     "metadata": {},
     "output_type": "execute_result"
    }
   ],
   "source": [
    "## solution 1\n",
    "## internal representation of hex grid based on https://www.redblobgames.com/grids/hexagons/\n",
    "direct_map = {'n' : (0,1), 's' : (0,-1), 'ne' : (1,0), 'sw' : (-1,0), 'se' : (1,-1), 'nw' : (-1,1)}\n",
    "x = 0\n",
    "y = 0\n",
    "directions = Counter()\n",
    "for d in input_data:\n",
    "    x += direct_map[d][0]\n",
    "    y += direct_map[d][1]\n",
    "dist = (abs(x) + abs(y) + abs(x+y)) / 2\n",
    "int(dist)"
   ]
  },
  {
   "cell_type": "code",
   "execution_count": 34,
   "metadata": {},
   "outputs": [
    {
     "data": {
      "text/plain": [
       "1490"
      ]
     },
     "execution_count": 34,
     "metadata": {},
     "output_type": "execute_result"
    }
   ],
   "source": [
    "## solution 2\n",
    "direct_map = {'n' : (0,1), 's' : (0,-1), 'ne' : (1,0), 'sw' : (-1,0), 'se' : (1,-1), 'nw' : (-1,1)}\n",
    "x = 0\n",
    "y = 0\n",
    "furthest = BIG_NUM_NEG\n",
    "directions = Counter()\n",
    "for d in input_data:\n",
    "    x += direct_map[d][0]\n",
    "    y += direct_map[d][1]\n",
    "    dist = int((abs(x) + abs(y) + abs(x+y)) / 2)\n",
    "    if furthest < dist:\n",
    "        furthest = dist\n",
    "furthest"
   ]
  },
  {
   "cell_type": "markdown",
   "metadata": {},
   "source": [
    "## [Day 12](https://adventofcode.com/2017/day/12): Digital Plumber"
   ]
  },
  {
   "cell_type": "code",
   "execution_count": 35,
   "metadata": {
    "collapsed": true
   },
   "outputs": [],
   "source": [
    "input_data = convert_to_list(input_from_file(12))\n",
    "programs = defaultdict(list)\n",
    "pattern = re.compile(r'^(\\d*) <->((\\s*[\\d]*,*)+)$')\n",
    "for line in input_data:\n",
    "    \n",
    "    m = re.match(pattern, line)\n",
    "    if m:\n",
    "        a = int(m.group(1))\n",
    "        b_list = map(int, m.group(2).split(','))\n",
    "        programs[a] = list(map(int, m.group(2).split(',')))"
   ]
  },
  {
   "cell_type": "code",
   "execution_count": 36,
   "metadata": {},
   "outputs": [
    {
     "data": {
      "text/plain": [
       "175"
      ]
     },
     "execution_count": 36,
     "metadata": {},
     "output_type": "execute_result"
    }
   ],
   "source": [
    "## solution 1\n",
    "#bfs\n",
    "queue = [0]\n",
    "visited = set()\n",
    "visited.add(0)\n",
    "while queue:\n",
    "    a = queue.pop()\n",
    "    for p in programs[a]:\n",
    "        if p not in visited:\n",
    "            visited.add(p)\n",
    "            queue.append(p)\n",
    "len(visited)"
   ]
  },
  {
   "cell_type": "code",
   "execution_count": 37,
   "metadata": {},
   "outputs": [
    {
     "data": {
      "text/plain": [
       "213"
      ]
     },
     "execution_count": 37,
     "metadata": {},
     "output_type": "execute_result"
    }
   ],
   "source": [
    "## solution 2\n",
    "group_num = 0\n",
    "visited = set()\n",
    "for i in range(len(programs)):\n",
    "    if i in visited:\n",
    "        continue\n",
    "    queue = [i]\n",
    "    visited.add(i)\n",
    "    while queue:\n",
    "        a = queue.pop()\n",
    "        for p in programs[a]:\n",
    "            if p not in visited:\n",
    "                visited.add(p)\n",
    "                queue.append(p)\n",
    "    group_num += 1\n",
    "group_num"
   ]
  },
  {
   "cell_type": "markdown",
   "metadata": {},
   "source": [
    "## [Day 13](https://adventofcode.com/2017/day/13): Packet Scanners"
   ]
  },
  {
   "cell_type": "code",
   "execution_count": 38,
   "metadata": {
    "collapsed": true
   },
   "outputs": [],
   "source": [
    "input_data = convert_to_list(input_from_file(13))\n",
    "\n",
    "class MyOrderedDict(OrderedDict):\n",
    "    def lastKey(self):\n",
    "        return next(reversed(self))\n",
    "    \n",
    "layers = MyOrderedDict()\n",
    "for v in input_data:\n",
    "    _depth, _range = v.split()\n",
    "    layers[int(_depth.replace(':',''))] = int(_range)\n",
    "#print(layers)"
   ]
  },
  {
   "cell_type": "code",
   "execution_count": 39,
   "metadata": {},
   "outputs": [
    {
     "data": {
      "text/plain": [
       "1580"
      ]
     },
     "execution_count": 39,
     "metadata": {},
     "output_type": "execute_result"
    }
   ],
   "source": [
    "## solution 1\n",
    "\n",
    "def is_caught(current_depth, _range):\n",
    "    if (current_depth % (2 * (_range - 1))) == 0:\n",
    "        return True\n",
    "    return False\n",
    "\n",
    "severity = 0\n",
    "for picoseconds in range(layers.lastKey()+1):\n",
    "    if picoseconds in layers:\n",
    "        if is_caught(picoseconds, layers[picoseconds]):\n",
    "            severity += picoseconds * layers[picoseconds]\n",
    "\n",
    "severity"
   ]
  },
  {
   "cell_type": "code",
   "execution_count": 40,
   "metadata": {},
   "outputs": [
    {
     "data": {
      "text/plain": [
       "3943252"
      ]
     },
     "execution_count": 40,
     "metadata": {},
     "output_type": "execute_result"
    }
   ],
   "source": [
    "## solution 2\n",
    "\n",
    "delay = 0\n",
    "scanner_pos = 0\n",
    "picoseconds = 0\n",
    "\n",
    "caught_dividers = [None]*(layers.lastKey()+1)\n",
    "# create a lookup table containing modulo dividers when scanner is at start position of the layer\n",
    "for i in range(layers.lastKey()+1):\n",
    "    if i in layers:\n",
    "        caught_dividers[i] = (layers[i]+layers[i]-2)\n",
    "    else:\n",
    "        caught_dividers[i] = -1\n",
    "\n",
    "while scanner_pos < layers.lastKey()+1:\n",
    "\n",
    "    if picoseconds > delay:\n",
    "        scanner_pos += 1\n",
    "\n",
    "    if scanner_pos in layers:\n",
    "        if (picoseconds % caught_dividers[scanner_pos]) == 0:\n",
    "            picoseconds = delay\n",
    "            scanner_pos = 0\n",
    "            delay += 1\n",
    "    picoseconds += 1\n",
    "\n",
    "delay"
   ]
  },
  {
   "cell_type": "markdown",
   "metadata": {},
   "source": [
    "## [Day 14](https://adventofcode.com/2017/day/14): Disk Defragmentation"
   ]
  },
  {
   "cell_type": "code",
   "execution_count": 41,
   "metadata": {
    "collapsed": true
   },
   "outputs": [],
   "source": [
    "input_data = 'ffayrhll'"
   ]
  },
  {
   "cell_type": "code",
   "execution_count": 42,
   "metadata": {},
   "outputs": [
    {
     "data": {
      "text/plain": [
       "8190"
      ]
     },
     "execution_count": 42,
     "metadata": {},
     "output_type": "execute_result"
    }
   ],
   "source": [
    "## solution 1\n",
    "sum(bin(int(knot_hash_algorithm(input_data+'-'+str(i)), 16))[2:].count('1') for i in range(128))"
   ]
  },
  {
   "cell_type": "code",
   "execution_count": 43,
   "metadata": {},
   "outputs": [
    {
     "data": {
      "text/plain": [
       "1134"
      ]
     },
     "execution_count": 43,
     "metadata": {},
     "output_type": "execute_result"
    }
   ],
   "source": [
    "## solution 2\n",
    "def bfs(start: tuple, maze: list, visited: set):    \n",
    "    queue = [start]\n",
    "    while len(queue) > 0:\n",
    "        coords = queue.pop()\n",
    "        if coords not in visited and maze[coords[0]][coords[1]] != '0':\n",
    "            visited.add(coords)\n",
    "            if coords[0] > 0:\n",
    "                queue.append((coords[0]-1, coords[1]))\n",
    "            if coords[1] > 0:\n",
    "                queue.append((coords[0], coords[1]-1))\n",
    "            if coords[0] < 127:\n",
    "                queue.append((coords[0]+1, coords[1]))\n",
    "            if coords[1] < 127:\n",
    "                queue.append((coords[0], coords[1]+1))\n",
    "\n",
    "bin_map = [bin(int(knot_hash_algorithm(input_data+'-'+str(i)), 16))[2:].zfill(128) for i in range(128)]\n",
    "visited = set()\n",
    "groups_num = 0\n",
    "for i in range(128):\n",
    "    for j in range(128):\n",
    "        if bin_map[i][j] == '1' and (i,j) not in visited: \n",
    "            bfs((i,j), bin_map, visited)\n",
    "            groups_num += 1\n",
    "groups_num"
   ]
  },
  {
   "cell_type": "markdown",
   "metadata": {},
   "source": [
    "## [Day 15](https://adventofcode.com/2017/day/15): Dueling Generators"
   ]
  },
  {
   "cell_type": "code",
   "execution_count": 44,
   "metadata": {
    "collapsed": true
   },
   "outputs": [],
   "source": [
    "input_data = convert_to_list(input_from_file(15))\n",
    "A = int(re.search(r'\\s*([0-9]+)', input_data[0])[0])\n",
    "B = int(re.search(r'\\s*([0-9]+)', input_data[1])[0])"
   ]
  },
  {
   "cell_type": "code",
   "execution_count": 45,
   "metadata": {},
   "outputs": [
    {
     "data": {
      "text/plain": [
       "592"
      ]
     },
     "execution_count": 45,
     "metadata": {},
     "output_type": "execute_result"
    }
   ],
   "source": [
    "## solution 1\n",
    "def generator(prev_val, factor, divider):\n",
    "    while True:\n",
    "        prev_val = (prev_val * factor) % divider\n",
    "        yield prev_val\n",
    "\n",
    "def judge(A, B, N=40*10**6):\n",
    "    result = 0\n",
    "    for _ in range(N):\n",
    "        if next(A) & 0xFFFF == next(B) & 0xFFFF:\n",
    "            result += 1\n",
    "    return result\n",
    "\n",
    "judge((lambda: generator(A, 16807, 2147483647))(), (lambda: generator(B, 48271, 2147483647))())"
   ]
  },
  {
   "cell_type": "code",
   "execution_count": 46,
   "metadata": {},
   "outputs": [
    {
     "data": {
      "text/plain": [
       "320"
      ]
     },
     "execution_count": 46,
     "metadata": {},
     "output_type": "execute_result"
    }
   ],
   "source": [
    "## solution 2\n",
    "def generator(prev_val, factor, divider):\n",
    "    while True:\n",
    "        prev_val = (prev_val * factor) % divider\n",
    "        yield prev_val\n",
    "\n",
    "def judge(A, B, N=5*10**6):\n",
    "    result = 0\n",
    "    divider = 2**16 # only last 16 bits counts\n",
    "    for _ in range(N):\n",
    "        a = next(A)\n",
    "        b = next(B)\n",
    "        if a % 4 == 0 or b % 8 == 0:\n",
    "            if a & 0xFFFF == b & 0xFFFF:\n",
    "                result += 1\n",
    "    return result\n",
    "\n",
    "gen_A = lambda: generator(A, 16807, 2147483647)\n",
    "gen_B = lambda: generator(B, 48271, 2147483647)\n",
    "gen_A = (val for val in gen_A() if val % 4 == 0) # only those multiplied by 4\n",
    "gen_B = (val for val in gen_B() if val % 8 == 0) # only those multiplied by 8\n",
    "judge(gen_A, gen_B)"
   ]
  },
  {
   "cell_type": "markdown",
   "metadata": {},
   "source": [
    "## [Day 16](https://adventofcode.com/2017/day/16): Permutation Promenade"
   ]
  },
  {
   "cell_type": "code",
   "execution_count": 47,
   "metadata": {
    "collapsed": true
   },
   "outputs": [],
   "source": [
    "input_data = input_from_file(16).read().split(',')"
   ]
  },
  {
   "cell_type": "code",
   "execution_count": 48,
   "metadata": {},
   "outputs": [
    {
     "data": {
      "text/plain": [
       "'gkmndaholjbfcepi'"
      ]
     },
     "execution_count": 48,
     "metadata": {},
     "output_type": "execute_result"
    }
   ],
   "source": [
    "## solution 1\n",
    "programs = 'abcdefghijklmnop'\n",
    "\n",
    "def do_dancing(dance, programs):\n",
    "    d = deque(programs)\n",
    "    #helpers\n",
    "    def rotate(moves_num):\n",
    "        d.rotate(int(moves_num))\n",
    "    def swap(i, j):\n",
    "        d[i], d[j] = d[j], d[i]\n",
    "    for dance_move in dance:\n",
    "        op, arg = dance_move[0], dance_move[1:].split('/')\n",
    "        if op == 's':\n",
    "            rotate(arg[0])\n",
    "        elif op == 'x':\n",
    "            swap(int(arg[0]), int(arg[1]))\n",
    "        elif op == 'p':\n",
    "            swap(d.index(arg[0]), d.index(arg[1]))\n",
    "    return ''.join(d)\n",
    "        \n",
    "\n",
    "do_dancing(input_data, programs)"
   ]
  },
  {
   "cell_type": "code",
   "execution_count": 49,
   "metadata": {},
   "outputs": [
    {
     "data": {
      "text/plain": [
       "'abcdefghijklmnop'"
      ]
     },
     "execution_count": 49,
     "metadata": {},
     "output_type": "execute_result"
    }
   ],
   "source": [
    "## solution 2\n",
    "## check if there is any repetition\n",
    "s_programs ='abcdefghijklmnop'\n",
    "programs = 'abcdefghijklmnop'\n",
    "repetition_num = 0\n",
    "for _ in range(1000):\n",
    "    programs = do_dancing(input_data, programs)\n",
    "    if programs == s_programs:\n",
    "        repetition_num += 1\n",
    "\n",
    "programs = s_programs\n",
    "N = 1000000000 % repetition_num\n",
    "for _ in range(0, N):\n",
    "    programs = do_dancing(input_data, programs)\n",
    "programs\n"
   ]
  },
  {
   "cell_type": "markdown",
   "metadata": {},
   "source": [
    "## [Day 17](https://adventofcode.com/2017/day/17): Spinlock"
   ]
  },
  {
   "cell_type": "code",
   "execution_count": 50,
   "metadata": {
    "collapsed": true
   },
   "outputs": [],
   "source": [
    "input_data = 376"
   ]
  },
  {
   "cell_type": "code",
   "execution_count": 51,
   "metadata": {},
   "outputs": [
    {
     "data": {
      "text/plain": [
       "777"
      ]
     },
     "execution_count": 51,
     "metadata": {},
     "output_type": "execute_result"
    }
   ],
   "source": [
    "## solution 1\n",
    "circular_buffer = [0]\n",
    "current_pos = 0\n",
    "for i in range(1, 2018):\n",
    "    current_pos = (current_pos+input_data) % len(circular_buffer)\n",
    "    current_pos += 1\n",
    "    circular_buffer.insert(current_pos, i)\n",
    "\n",
    "next_to_2017 = 0\n",
    "for i, val in enumerate(circular_buffer):\n",
    "    if val == 2017:\n",
    "        next_to_2017 = circular_buffer[i+1]\n",
    "next_to_2017"
   ]
  },
  {
   "cell_type": "code",
   "execution_count": 52,
   "metadata": {},
   "outputs": [
    {
     "data": {
      "text/plain": [
       "39289581"
      ]
     },
     "execution_count": 52,
     "metadata": {},
     "output_type": "execute_result"
    }
   ],
   "source": [
    "## solution 2\n",
    "circular_buffer_len = 1\n",
    "current_pos = 0\n",
    "next_to_0 = 0\n",
    "for i in range(1, 50000001):\n",
    "    current_pos = ((current_pos+input_data) % i) + 1\n",
    "    if current_pos == 1:\n",
    "        next_to_0 = i \n",
    "next_to_0"
   ]
  },
  {
   "cell_type": "markdown",
   "metadata": {},
   "source": [
    "## [Day 18](https://adventofcode.com/2017/day/18): Duet"
   ]
  },
  {
   "cell_type": "code",
   "execution_count": 66,
   "metadata": {
    "collapsed": true
   },
   "outputs": [],
   "source": [
    "input_data = convert_to_list(input_from_file(18))\n",
    "instructions = [i.replace('\\n', '') for i in input_data]"
   ]
  },
  {
   "cell_type": "code",
   "execution_count": 64,
   "metadata": {},
   "outputs": [
    {
     "data": {
      "text/plain": [
       "7071"
      ]
     },
     "execution_count": 64,
     "metadata": {},
     "output_type": "execute_result"
    }
   ],
   "source": [
    "## solution 1\n",
    "regs = Counter()\n",
    "regs['last_freq'] = 0\n",
    "def execute(instructions):\n",
    "    pc = 0\n",
    "    while True:\n",
    "        unpacked = instructions[pc].split()\n",
    "        op = unpacked[0]\n",
    "        x = unpacked[1]\n",
    "        y = -1\n",
    "        if len(unpacked) > 2: \n",
    "            y = unpacked[2]\n",
    "        if y in regs:\n",
    "            y = regs[y]\n",
    "        else:\n",
    "            y = int(y)\n",
    "        if op == 'snd':\n",
    "            regs['last_freq'] = regs[x]\n",
    "        elif op == 'set':\n",
    "                regs[x] = y\n",
    "        elif op == 'add':\n",
    "            regs[x] += y\n",
    "        elif op == 'mul':\n",
    "            regs[x] = regs[x] * y\n",
    "        elif op == 'mod':\n",
    "            regs[x] = regs[x] % y\n",
    "        elif op == 'rcv':\n",
    "            if x in regs:\n",
    "                if regs[x] > 0:\n",
    "                    break\n",
    "            else:\n",
    "                if int(x) > 0:\n",
    "                    break\n",
    "        elif op == 'jgz':\n",
    "            if x in regs:\n",
    "                if regs[x] > 0:\n",
    "                    pc = ((pc+y) % len(instructions))\n",
    "                    continue\n",
    "            else:\n",
    "                if int(x) > 0:\n",
    "                    pc = ((pc+y) % len(instructions)) \n",
    "                    continue\n",
    "        pc = (pc + 1) % len(instructions)\n",
    "        #print(regs, pc)\n",
    "execute(instructions)\n",
    "regs['last_freq']"
   ]
  },
  {
   "cell_type": "code",
   "execution_count": 76,
   "metadata": {},
   "outputs": [
    {
     "data": {
      "text/plain": [
       "7493"
      ]
     },
     "execution_count": 76,
     "metadata": {},
     "output_type": "execute_result"
    }
   ],
   "source": [
    "## solution 2\n",
    "class Program():\n",
    "    def __init__(self, program_id, instructions, send_msg_queue = None):\n",
    "        self.instrs = instructions\n",
    "        self.inst_len = len(self.instrs)\n",
    "        self.send_msg_queue = send_msg_queue\n",
    "        self.recv_msg_queue = deque()\n",
    "        self._id = program_id\n",
    "        self.regs = Counter()\n",
    "        self.sent_msg_count = 0\n",
    "        self.pc = 0\n",
    "        self.status = 'run'\n",
    "        self.regs['p'] = self._id\n",
    "        \n",
    "    def get_status(self):\n",
    "        return self.status\n",
    "\n",
    "    def set_send_queue(self, send_msg_queue):\n",
    "        self.send_msg_queue = send_msg_queue\n",
    "\n",
    "    def execute_step(self):\n",
    "        if (self.pc >= 0) and (self.pc <= self.inst_len):\n",
    "            unpacked = self.instrs[self.pc].split()\n",
    "            op = unpacked[0]\n",
    "            x = unpacked[1]\n",
    "            y = -1\n",
    "            if len(unpacked) > 2: \n",
    "                y = unpacked[2]\n",
    "            if y in self.regs:\n",
    "                y = self.regs[y]\n",
    "            else:\n",
    "                y = int(y)\n",
    "            if op == 'snd':\n",
    "                if x in self.regs:\n",
    "                    self.send_msg_queue.append(self.regs[x])\n",
    "                else:\n",
    "                    self.send_msg_queue.append(int(x))\n",
    "                self.sent_msg_count += 1\n",
    "            elif op == 'set':\n",
    "                    self.regs[x] = y\n",
    "            elif op == 'add':\n",
    "                self.regs[x] += y\n",
    "            elif op == 'mul':\n",
    "                self.regs[x] *= y\n",
    "            elif op == 'mod':\n",
    "                self.regs[x] %= y\n",
    "            elif op == 'rcv':\n",
    "                try:\n",
    "                    self.regs[x] = self.recv_msg_queue.popleft()\n",
    "                    self.status = 'run'\n",
    "                except:\n",
    "                    self.status = 'wait'\n",
    "                    return\n",
    "            elif op == 'jgz':\n",
    "                if x in self.regs:\n",
    "                    if self.regs[x] > 0:\n",
    "                        self.pc += y-1\n",
    "                else:\n",
    "                    if int(x) > 0:\n",
    "                        self.pc += y-1 \n",
    "            self.pc += 1\n",
    "        else:\n",
    "            self.status = 'end'\n",
    "\n",
    "import random\n",
    "def find_solution():\n",
    "    p0 = Program(0, instructions)\n",
    "    p1 = Program(1, instructions)\n",
    "    p0.set_send_queue(p1.recv_msg_queue)\n",
    "    p1.set_send_queue(p0.recv_msg_queue)\n",
    "    programs = [p0, p1]\n",
    "    result = -1\n",
    "    while p0.get_status() == 'run' or p1.get_status() == 'run':\n",
    "        random.choice(programs).execute_step()\n",
    "    result = p1.sent_msg_count\n",
    "    return result\n",
    "\n",
    "find_solution()"
   ]
  },
  {
   "cell_type": "markdown",
   "metadata": {},
   "source": [
    "## [Day 19](https://adventofcode.com/2017/day/19): A Series of Tubes"
   ]
  },
  {
   "cell_type": "code",
   "execution_count": 56,
   "metadata": {
    "collapsed": true
   },
   "outputs": [],
   "source": [
    "input_data = input_from_file(19).read().splitlines()"
   ]
  },
  {
   "cell_type": "code",
   "execution_count": 57,
   "metadata": {},
   "outputs": [
    {
     "data": {
      "text/plain": [
       "'LXWCKGRAOY'"
      ]
     },
     "execution_count": 57,
     "metadata": {},
     "output_type": "execute_result"
    }
   ],
   "source": [
    "## solution 1\n",
    "D = {'UP':(0,-1), 'DOWN':(0,1), 'RIGHT':(1,0), 'LEFT':(-1,0)} #direction\n",
    "valid_chars = ['|', '-', '+']\n",
    "def collect_letters(diagram):\n",
    "    letters = []\n",
    "    steps_num = 0\n",
    "    start_point = 0\n",
    "    width = len(diagram[0])\n",
    "    height = len(diagram)   \n",
    "    next_char = ''\n",
    "    for i, val in enumerate(diagram[0]):\n",
    "        if val in valid_chars:\n",
    "            start_point = i\n",
    "    col = start_point\n",
    "    row = 0 \n",
    "    next_char = diagram[row][col]\n",
    "    ch_type = diagram[row][col]\n",
    "    d = D['DOWN']\n",
    "    while next_char.isalpha() or next_char in valid_chars:\n",
    "        col += d[0]\n",
    "        row += d[1]\n",
    "        next_char = diagram[row][col]\n",
    "        steps_num += 1\n",
    "        if next_char.isalpha():\n",
    "            letters.append(next_char)           \n",
    "        elif next_char == '+':\n",
    "            d = change_direction(d, (row,col), diagram, ch_type)\n",
    "            ch_type = diagram[row+d[1]][col+d[0]]\n",
    "    return (''.join(letters), steps_num)\n",
    "\n",
    "def change_direction(last_direction, point_coordinates, diagram, last_cht_type):\n",
    "    r, c = point_coordinates\n",
    "    for key, val in D.items():\n",
    "        next_val = diagram[r+val[1]][c+val[0]]\n",
    "        if next_val in valid_chars and next_val != last_cht_type:\n",
    "            return D[key]\n",
    "    return last_direction \n",
    "\n",
    "collect_letters(input_data)[0]"
   ]
  },
  {
   "cell_type": "code",
   "execution_count": 58,
   "metadata": {},
   "outputs": [
    {
     "data": {
      "text/plain": [
       "17302"
      ]
     },
     "execution_count": 58,
     "metadata": {},
     "output_type": "execute_result"
    }
   ],
   "source": [
    "## solution 2\n",
    "collect_letters(input_data)[1]"
   ]
  },
  {
   "cell_type": "markdown",
   "metadata": {},
   "source": [
    "## [Day 20](https://adventofcode.com/2017/day/20): Particle Swarm"
   ]
  },
  {
   "cell_type": "code",
   "execution_count": 59,
   "metadata": {
    "collapsed": true
   },
   "outputs": [],
   "source": [
    "input_data = input_from_file(20).read().splitlines()\n",
    "particles = []\n",
    "pattern = re.compile(r'<([0-9,-]*)>')\n",
    "for particle in input_data:\n",
    "    m = re.findall(pattern, particle)\n",
    "    p = list(map(int, m[0].split(',')))\n",
    "    v = list(map(int, m[1].split(',')))\n",
    "    a = list(map(int, m[2].split(',')))\n",
    "    particles.append([p, v, a])\n",
    "#print(particles)\n"
   ]
  },
  {
   "cell_type": "code",
   "execution_count": 60,
   "metadata": {},
   "outputs": [
    {
     "data": {
      "text/plain": [
       "344"
      ]
     },
     "execution_count": 60,
     "metadata": {},
     "output_type": "execute_result"
    }
   ],
   "source": [
    "## solution 1\n",
    "\n",
    "def add_particle_params(p1, p2):\n",
    "    p1[0] = p1[0] + p2[0]\n",
    "    p1[1] = p1[1] + p2[1]\n",
    "    p1[2] = p1[2] + p2[2]\n",
    "        \n",
    "def run1(particles, steps = 1000):\n",
    "    i = 0\n",
    "    min_dist = (BIG_NUM_POS, -1)\n",
    "    step = 0\n",
    "    while step < steps:\n",
    "        for i, p in enumerate(particles):\n",
    "            add_particle_params(p[1], p[2])\n",
    "            add_particle_params(p[0], p[1])\n",
    "        step += 1\n",
    "    for i, p in enumerate(particles):\n",
    "        s = sum(map(abs, p[0]))\n",
    "        if s < min_dist[0]:\n",
    "            min_dist = (s, i) \n",
    "            \n",
    "    return min_dist\n",
    "part1 = copy.deepcopy(particles)\n",
    "run1(part1)[1]"
   ]
  },
  {
   "cell_type": "code",
   "execution_count": 61,
   "metadata": {},
   "outputs": [
    {
     "data": {
      "text/plain": [
       "404"
      ]
     },
     "execution_count": 61,
     "metadata": {},
     "output_type": "execute_result"
    }
   ],
   "source": [
    "## solution 2\n",
    "        \n",
    "def run2(particles, steps = 1000):\n",
    "    step = 0\n",
    "    while step < steps:       \n",
    "        for i, p in enumerate(particles):\n",
    "            add_particle_params(p[1], p[2])\n",
    "            add_particle_params(p[0], p[1])\n",
    "        collisions = Counter(tuple(p[0]) for p in particles)\n",
    "        #print(collisions)\n",
    "        particles = [p for p in particles if collisions[tuple(p[0])] == 1] \n",
    "        step += 1\n",
    "    return len(particles)\n",
    "part2 = copy.deepcopy(particles)\n",
    "run2(part2)"
   ]
  },
  {
   "cell_type": "markdown",
   "metadata": {},
   "source": [
    "## [Day 21](https://adventofcode.com/2017/day/21): Fractal Art"
   ]
  },
  {
   "cell_type": "code",
   "execution_count": 3,
   "metadata": {
    "collapsed": true,
    "scrolled": true
   },
   "outputs": [],
   "source": [
    "input_data = convert_to_list(input_from_file(21))\n",
    "#print(input_data)\n",
    "# create enhancements\n",
    "enhancements = defaultdict()\n",
    "\n",
    "def parse_line(line):\n",
    "    converter = {'#': 1, '.': 0}\n",
    "    return tuple(tuple(converter[char] for char in row.strip())\n",
    "                 for row in line.split('/'))\n",
    "\n",
    "def rotate(enh_key):\n",
    "    return tuple(zip(*reversed(enh_key)))\n",
    "\n",
    "def flip(enh_key):\n",
    "    return tuple(tuple(reversed(row)) for row in enh_key)\n",
    "\n",
    "# create enhancements table\n",
    "for e in input_data:\n",
    "    rule1, rule2 = map(parse_line, e.split(\"=>\"))\n",
    "    enhancements[rule1] = rule2\n",
    "    for _ in range(4): \n",
    "        # rotate and flip\n",
    "        rule1 = rotate(rule1)\n",
    "        enhancements[rule1] = rule2\n",
    "        enhancements[flip(rule1)] = rule2\n",
    "#print(enhancements)\n",
    "\n",
    "#test rotate and flip\n",
    "#test = ((0, 1, 0), (0, 0, 1), (1, 1, 1))\n",
    "#for _ in range(4):\n",
    "#    test = rotate(test)\n",
    "#    print(test)\n",
    "#    print(flip(test))\n",
    "    "
   ]
  },
  {
   "cell_type": "code",
   "execution_count": 5,
   "metadata": {},
   "outputs": [
    {
     "data": {
      "text/plain": [
       "147"
      ]
     },
     "execution_count": 5,
     "metadata": {},
     "output_type": "execute_result"
    }
   ],
   "source": [
    "## solution1\n",
    "def extend_grid(grid):\n",
    "    divided_grid = ()\n",
    "    #print(\"input_grid: \", grid)\n",
    "    \n",
    "    if len(grid) == 3:\n",
    "        divided_grid = grid\n",
    "        return enhancements[divided_grid]\n",
    "    \n",
    "    elif len(grid) % 2 == 0:\n",
    "        for i in range(0, len(grid), 2):\n",
    "            for j in range(0, len(grid), 2):\n",
    "                divided_grid += ((grid[i][j:2+j], grid[i+1][j:2+j]),)\n",
    "    elif len(grid) % 3 == 0:\n",
    "        for i in range(0, len(grid), 3):\n",
    "            for j in range(0, len(grid), 3):\n",
    "                divided_grid += ((grid[i][j:3+j],\n",
    "                                  grid[i+1][j:3+j],\n",
    "                                  grid[i+2][j:3+j]),)\n",
    "    #print(\"divided_grid: \", divided_grid)    \n",
    "    \n",
    "    temp_buffer = ()\n",
    "    for small_square in divided_grid:\n",
    "        temp_buffer += (enhancements[small_square],)\n",
    "    #print(\"temp_buffer: \", temp_buffer)\n",
    "    \n",
    "    enhanced_grid = ()\n",
    "    row_num = int(math.sqrt(len(temp_buffer) * len(temp_buffer[0]) * len(temp_buffer[0][0])))\n",
    "    one_item_len = len(temp_buffer[0][0])\n",
    "    items_per_row = row_num // one_item_len\n",
    "    #print(\"ROW_NUM: {}, ITEMS_PER_ROW: {}, ONE_ITEM_LEN: {}\".format(row_num, items_per_row, one_item_len))\n",
    "    for shift in range(0, len(temp_buffer), items_per_row):\n",
    "        for i in range(len(temp_buffer[0])):\n",
    "            temp_tuple = ()\n",
    "            for j in range(items_per_row):\n",
    "                temp_tuple += temp_buffer[j+shift][i]\n",
    "            #print(\"TEMP_TUPLE: \", temp_tuple, \"shift: \", shift, \"i: \", i)\n",
    "            enhanced_grid += (temp_tuple,)          \n",
    "    #print(\"enhanced_grid: \", enhanced_grid)\n",
    "    return enhanced_grid\n",
    "\n",
    "# 5 iterations\n",
    "# input_grid = .#.\n",
    "#              ..#\n",
    "#              ###\n",
    "grid =  ((0, 1, 0), (0, 0, 1), (1, 1, 1))\n",
    "for _ in range(5):\n",
    "    grid = extend_grid(grid)\n",
    "\n",
    "\n",
    "# count all pixels on\n",
    "pixels_on = 0\n",
    "for row in grid:\n",
    "    for val in row:\n",
    "        if val == 1:\n",
    "            pixels_on += 1\n",
    "pixels_on"
   ]
  },
  {
   "cell_type": "code",
   "execution_count": null,
   "metadata": {
    "collapsed": true
   },
   "outputs": [],
   "source": [
    "##### solution 2\n",
    "# 18 iterations\n",
    "# input_grid = .#.\n",
    "#              ..#\n",
    "#              ###\n",
    "grid =  ((0, 1, 0), (0, 0, 1), (1, 1, 1))\n",
    "for _ in range(18):\n",
    "    grid = extend_grid(grid)\n",
    "\n",
    "\n",
    "# count all pixels on\n",
    "pixels_on = 0\n",
    "for row in grid:\n",
    "    for val in row:\n",
    "        if val == 1:\n",
    "            pixels_on += 1\n",
    "pixels_on"
   ]
  },
  {
   "cell_type": "markdown",
   "metadata": {},
   "source": [
    "## [Day 22](https://adventofcode.com/2017/day/22): Sporifica Virus"
   ]
  },
  {
   "cell_type": "code",
   "execution_count": 148,
   "metadata": {
    "collapsed": true
   },
   "outputs": [],
   "source": [
    "input_data = convert_to_list(input_from_file(22))\n",
    "grid = [list(row.replace('\\n', '')) for row in input_data]\n",
    "#print(grid)\n",
    "middle_idx = (len(grid)//2, len(grid[0])//2)\n",
    "# middle index"
   ]
  },
  {
   "cell_type": "code",
   "execution_count": 131,
   "metadata": {},
   "outputs": [
    {
     "data": {
      "text/plain": [
       "5322"
      ]
     },
     "execution_count": 131,
     "metadata": {},
     "output_type": "execute_result"
    }
   ],
   "source": [
    "## solution 1\n",
    "from enum import Enum\n",
    "class Direction(Enum):\n",
    "    N = (-1, 0)\n",
    "    S = (1, 0)\n",
    "    E = (0, 1)\n",
    "    W = (0, -1)    \n",
    "\n",
    "class Turn(Enum):\n",
    "    LEFT = 0\n",
    "    RIGHT = 1\n",
    "    INVALID = -1\n",
    "\n",
    "def next_direct(turn, direction):\n",
    "    if not isinstance(turn, Turn):\n",
    "        raise TypeError(\"turn must be of Turn type\")\n",
    "    if not isinstance(direction, Direction):\n",
    "        raise TypeError(\"direction must be of Direction type\")\n",
    "    if turn == Turn.LEFT:\n",
    "        if direction == Direction.N:\n",
    "            direction = Direction.W\n",
    "        elif direction == Direction.S:\n",
    "            direction = Direction.E\n",
    "        elif direction == Direction.E:\n",
    "            direction = Direction.N\n",
    "        elif direction == Direction.W:\n",
    "            direction = Direction.S\n",
    "    elif turn == Turn.RIGHT:\n",
    "        if direction == Direction.N:\n",
    "            direction = Direction.E\n",
    "        elif direction == Direction.S:\n",
    "            direction = Direction.W\n",
    "        elif direction == Direction.E:\n",
    "            direction = Direction.S\n",
    "        elif direction == Direction.W:\n",
    "            direction = Direction.N\n",
    "    return direction\n",
    "\n",
    "\n",
    "def calculate_infections(net, start_idx, face_direct, N = 10000):\n",
    "    infected_nodes = set()\n",
    "    current_idx = start_idx\n",
    "    current_direct = face_direct\n",
    "    infections = 0\n",
    "    for _ in range(N):\n",
    "        if 0 <= current_idx[0] < len(net) and 0 <= current_idx[1] < len(net[0]):  \n",
    "            if net[current_idx[0]][current_idx[1]] == '.':\n",
    "                net[current_idx[0]][current_idx[1]] = '#'\n",
    "                infections += 1\n",
    "                infected_nodes.add(current_idx)\n",
    "                current_direct = next_direct(Turn.LEFT, current_direct)\n",
    "            elif net[current_idx[0]][current_idx[1]] == '#':\n",
    "                net[current_idx[0]][current_idx[1]] = '.'\n",
    "                current_direct = next_direct(Turn.RIGHT, current_direct)\n",
    "                if current_idx in infected_nodes:\n",
    "                    infected_nodes.remove(current_idx)\n",
    "        else:\n",
    "            if current_idx in infected_nodes:\n",
    "                infected_nodes.remove(current_idx)\n",
    "                current_direct = next_direct(Turn.RIGHT, current_direct)\n",
    "            else:\n",
    "                infections += 1\n",
    "                infected_nodes.add(current_idx)\n",
    "                current_direct = next_direct(Turn.LEFT, current_direct)\n",
    "        current_idx = (current_idx[0]+current_direct.value[0], current_idx[1]+current_direct.value[1])\n",
    "        \n",
    "    return infections          \n",
    "calculate_infections(copy.deepcopy(grid), middle_idx, Direction.N, 10000)\n",
    "      "
   ]
  },
  {
   "cell_type": "code",
   "execution_count": 147,
   "metadata": {},
   "outputs": [
    {
     "data": {
      "text/plain": [
       "2512079"
      ]
     },
     "execution_count": 147,
     "metadata": {},
     "output_type": "execute_result"
    }
   ],
   "source": [
    "## solution 2\n",
    "class Turn(Enum):\n",
    "    LEFT = 0\n",
    "    RIGHT = 1\n",
    "    REVERSE = 2\n",
    "    INVALID = -1\n",
    "\n",
    "def get_next_direction(node_state, direction):\n",
    "\n",
    "    if not isinstance(direction, Direction):\n",
    "        raise TypeError(\"direction must be of Direction type\")\n",
    "    turn = Turn.INVALID\n",
    "    if node_state == '#':\n",
    "        turn = Turn.RIGHT\n",
    "    elif node_state == '.':\n",
    "        turn = Turn.LEFT\n",
    "    elif node_state == 'W':\n",
    "        pass\n",
    "    elif node_state == 'F':\n",
    "        turn = Turn.REVERSE \n",
    "    else:\n",
    "        raise TypeError(\"Invalid node_state - only '#','.','W','F' allowed\")\n",
    "    \n",
    "    if turn == Turn.LEFT:\n",
    "        if direction == Direction.N:\n",
    "            direction = Direction.W\n",
    "        elif direction == Direction.S:\n",
    "            direction = Direction.E\n",
    "        elif direction == Direction.E:\n",
    "            direction = Direction.N\n",
    "        elif direction == Direction.W:\n",
    "            direction = Direction.S\n",
    "    elif turn == Turn.RIGHT:\n",
    "        if direction == Direction.N:\n",
    "            direction = Direction.E\n",
    "        elif direction == Direction.S:\n",
    "            direction = Direction.W\n",
    "        elif direction == Direction.E:\n",
    "            direction = Direction.S\n",
    "        elif direction == Direction.W:\n",
    "            direction = Direction.N\n",
    "    elif turn == Turn.REVERSE:\n",
    "        if direction == Direction.N:\n",
    "            direction = Direction.S\n",
    "        elif direction == Direction.S:\n",
    "            direction = Direction.N\n",
    "        elif direction == Direction.E:\n",
    "            direction = Direction.W\n",
    "        elif direction == Direction.W:\n",
    "            direction = Direction.E        \n",
    "    return direction\n",
    "\n",
    "def calculate_infections(net, start_idx, face_direct, N = 10000):\n",
    "    infected_nodes = Counter()\n",
    "    current_idx = start_idx\n",
    "    current_direct = face_direct\n",
    "    infections = 0\n",
    "    for _ in range(N):\n",
    "        if 0 <= current_idx[0] < len(net) and 0 <= current_idx[1] < len(net[0]):\n",
    "            if current_idx in infected_nodes.keys():\n",
    "                current_direct = get_next_direction(infected_nodes[current_idx], current_direct)\n",
    "                if infected_nodes[current_idx] == 'W':\n",
    "                    infected_nodes[current_idx] = '#'\n",
    "                    infections += 1\n",
    "                elif infected_nodes[current_idx] == '#':\n",
    "                    infected_nodes[current_idx] = 'F'\n",
    "                elif infected_nodes[current_idx] == 'F':\n",
    "                    infected_nodes[current_idx] = '.'\n",
    "                else:\n",
    "                    infected_nodes[current_idx] = 'W'   \n",
    "            elif net[current_idx[0]][current_idx[1]] == '#':\n",
    "                current_direct = get_next_direction('#', current_direct)\n",
    "                infected_nodes[current_idx] = 'F'\n",
    "            elif net[current_idx[0]][current_idx[1]] == '.':\n",
    "                current_direct = get_next_direction('.', current_direct)\n",
    "                infected_nodes[current_idx] = 'W'\n",
    "        else:\n",
    "            if current_idx in infected_nodes.keys():\n",
    "                current_direct = get_next_direction(infected_nodes[current_idx], current_direct)\n",
    "                if infected_nodes[current_idx] == 'W':\n",
    "                    infected_nodes[current_idx] = '#'\n",
    "                    infections += 1\n",
    "                elif infected_nodes[current_idx] == '#':\n",
    "                    infected_nodes[current_idx] = 'F'\n",
    "                elif infected_nodes[current_idx] == 'F':\n",
    "                    infected_nodes[current_idx] = '.'\n",
    "                else:\n",
    "                    infected_nodes[current_idx] = 'W'\n",
    "            else:\n",
    "                current_direct = get_next_direction('.', current_direct)\n",
    "                infected_nodes[current_idx] = 'W'\n",
    "        current_idx = (current_idx[0]+current_direct.value[0], current_idx[1]+current_direct.value[1])      \n",
    "    return infections\n",
    "\n",
    "calculate_infections(copy.deepcopy(grid), middle_idx, Direction.N, 10000000)"
   ]
  },
  {
   "cell_type": "markdown",
   "metadata": {},
   "source": [
    "## [Day 23](https://adventofcode.com/2017/day/23): Coprocessor Conflagration"
   ]
  },
  {
   "cell_type": "code",
   "execution_count": 160,
   "metadata": {
    "collapsed": true
   },
   "outputs": [],
   "source": [
    "input_data = convert_to_list(input_from_file(23))\n",
    "instructions = [i.replace('\\n', '') for i in input_data]\n",
    "#print(instructions)"
   ]
  },
  {
   "cell_type": "code",
   "execution_count": 63,
   "metadata": {},
   "outputs": [
    {
     "data": {
      "text/plain": [
       "6724"
      ]
     },
     "execution_count": 63,
     "metadata": {},
     "output_type": "execute_result"
    }
   ],
   "source": [
    "## solution 1\n",
    "regs = {'a':0, 'b':0, 'c':0, 'd':0, 'e':0, 'f':0, 'g':0, 'h':0}\n",
    "def execute(instructions):\n",
    "    pc = 0\n",
    "    mul_count = 0\n",
    "    while pc >= 0 and pc < len(instructions):\n",
    "        unpacked = instructions[pc].split()\n",
    "        op, x, y = unpacked\n",
    "        if y.isalpha():\n",
    "            y = regs[y]\n",
    "        else:\n",
    "            y = int(y)  \n",
    "        if op == 'set':\n",
    "            regs[x] = y\n",
    "        elif op == 'sub':\n",
    "            regs[x] -= y\n",
    "        elif op == 'mul':\n",
    "            regs[x] *= y\n",
    "            mul_count += 1\n",
    "        elif op == 'jnz':\n",
    "            if x.isalpha():\n",
    "                x = regs[x]\n",
    "            else:\n",
    "                x = int(x)\n",
    "            if x != 0:\n",
    "                pc = pc+y\n",
    "                continue\n",
    "        pc = (pc + 1)\n",
    "    return mul_count\n",
    "\n",
    "execute(instructions)"
   ]
  },
  {
   "cell_type": "code",
   "execution_count": 159,
   "metadata": {},
   "outputs": [
    {
     "data": {
      "text/plain": [
       "903"
      ]
     },
     "execution_count": 159,
     "metadata": {},
     "output_type": "execute_result"
    }
   ],
   "source": [
    "## solution 2\n",
    "regs = {'a':1, 'b':0, 'c':0, 'd':0, 'e':0, 'f':0, 'g':0, 'h':0}\n",
    "def execute(instructions):\n",
    "    regs['b'] = 84\n",
    "    regs['c'] = regs['b']\n",
    "    regs['b'] *= 100\n",
    "    regs['b'] -= -100000\n",
    "    regs['c'] = regs['b']\n",
    "    regs['c'] -= -17000\n",
    "    #print(regs)\n",
    "    while True:\n",
    "        regs['f'] = 1\n",
    "        regs['d'] = 2\n",
    "        while True:\n",
    "            regs['e'] = 2\n",
    "            ## then program repeats\n",
    "            #set g d pc=11 \n",
    "            #mul g e pc=12\n",
    "            #sub g b pc=13\n",
    "            #jnz g 2 pc=14\n",
    "            #sub e -1 pc=16\n",
    "            #set g e pc=17\n",
    "            #sub g b pc=18\n",
    "            #jnz g -8 pc=19\n",
    "            ##BELOW LOOP is equal to... \n",
    "            # while regs['g'] != 0:\n",
    "            #    regs['g'] = regs['d'] * regs['e']\n",
    "            #    regs['g'] -= regs['b']\n",
    "            #    if regs['b'] % regs['d'] == 0:\n",
    "            #        print(regs, 'FFFFFFF')\n",
    "            #        regs['f'] = 0\n",
    "            #    regs['e'] -= -1\n",
    "            #    regs['g'] = regs['e'] - regs['b']\n",
    "            ##...to the below modulo operation: \n",
    "            #if regs['b'] % regs['d'] == 0:\n",
    "            #    print(regs, 'FFFFFFF')\n",
    "            #    regs['f'] = 0\n",
    "            if regs['b'] % regs['d'] == 0:\n",
    "                regs['f'] = 0\n",
    "            regs['d'] -= -1\n",
    "            regs['g'] = regs['d'] - regs['b']\n",
    "            if regs['g'] == 0:\n",
    "                if regs['f'] == 0:\n",
    "                    regs['h'] -= -1    \n",
    "                regs['g'] = regs['b'] - regs['c']\n",
    "                if regs['g'] == 0:\n",
    "                    return regs['h']\n",
    "                regs['b'] -= -17\n",
    "                break\n",
    "    return regs['h']\n",
    "\n",
    "execute(instructions)"
   ]
  },
  {
   "cell_type": "markdown",
   "metadata": {},
   "source": [
    "## [Day 24](https://adventofcode.com/2017/day/24): Electromagnetic Moat"
   ]
  },
  {
   "cell_type": "code",
   "execution_count": 54,
   "metadata": {},
   "outputs": [],
   "source": [
    "input_data = convert_to_list(input_from_file(24))\n",
    "parsed = [i.replace('\\n', '') for i in input_data]\n",
    "ports = list()\n",
    "for port in parsed:\n",
    "    ports.append((int(port.split('/')[0]), int(port.split('/')[1])))\n",
    "#ports"
   ]
  },
  {
   "cell_type": "code",
   "execution_count": 50,
   "metadata": {},
   "outputs": [
    {
     "data": {
      "text/plain": [
       "1656"
      ]
     },
     "execution_count": 50,
     "metadata": {},
     "output_type": "execute_result"
    }
   ],
   "source": [
    "## solution 1\n",
    "max_strength = 0\n",
    "used_ports = [False]*len(ports)\n",
    "\n",
    "def find_strongest_bridge(current_port, current_strength):\n",
    "    global max_strength \n",
    "    max_strength = max(current_strength, max_strength)\n",
    "    #print(\"MAX_STRENGTH: \", max_strength)\n",
    "    for i, p in enumerate(ports):\n",
    "        if used_ports[i] == False and (p[0] == current_port or p[1] == current_port):\n",
    "            used_ports[i] = True\n",
    "            #print(\"P: \", p)\n",
    "            if p[0] == current_port:\n",
    "                find_strongest_bridge(p[1], current_strength+p[0]+p[1])\n",
    "            else:\n",
    "                find_strongest_bridge(p[0], current_strength+p[0]+p[1])                \n",
    "            used_ports[i] = False\n",
    "\n",
    "find_strongest_bridge(0, 0)\n",
    "max_strength"
   ]
  },
  {
   "cell_type": "code",
   "execution_count": 53,
   "metadata": {},
   "outputs": [
    {
     "data": {
      "text/plain": [
       "1642"
      ]
     },
     "execution_count": 53,
     "metadata": {},
     "output_type": "execute_result"
    }
   ],
   "source": [
    "## solution 2\n",
    "max_strength = 0\n",
    "max_bridge_length = 0\n",
    "used_ports = [False]*len(ports)\n",
    "\n",
    "def find_strongest_bridge(current_port, current_bridge_length, current_strength):\n",
    "    global max_strength, max_bridge_length\n",
    "    if current_bridge_length >= max_bridge_length:\n",
    "        max_bridge_length = current_bridge_length\n",
    "        max_strength = max(current_strength, max_strength)\n",
    "    for i, p in enumerate(ports):\n",
    "        if used_ports[i] == False and (p[0] == current_port or p[1] == current_port):\n",
    "            used_ports[i] = True\n",
    "            if p[0] == current_port:\n",
    "                find_strongest_bridge(p[1], current_bridge_length+1, current_strength+p[0]+p[1])\n",
    "            else:\n",
    "                find_strongest_bridge(p[0], current_bridge_length+1, current_strength+p[0]+p[1])                \n",
    "            used_ports[i] = False\n",
    "\n",
    "find_strongest_bridge(0, 0, 0)\n",
    "max_strength"
   ]
  },
  {
   "cell_type": "markdown",
   "metadata": {},
   "source": [
    "## [Day 25](https://adventofcode.com/2017/day/25): The Halting Problem"
   ]
  },
  {
   "cell_type": "code",
   "execution_count": 39,
   "metadata": {
    "collapsed": true
   },
   "outputs": [],
   "source": [
    "input_data = convert_to_list(input_from_file(25))"
   ]
  },
  {
   "cell_type": "code",
   "execution_count": 41,
   "metadata": {},
   "outputs": [
    {
     "data": {
      "text/plain": [
       "4225"
      ]
     },
     "execution_count": 41,
     "metadata": {},
     "output_type": "execute_result"
    }
   ],
   "source": [
    "## solution 1\n",
    "# There is no sense to write a parser of the blueprint.\n",
    "# I have manually 'decrypted' code into dictionary\n",
    "#{state: [current_value x2 ->[write_value: 0/1, next_slot: R/L, next_state: A/B/C/D/E/F]]}\n",
    "\n",
    "R, L = +1, -1 \n",
    "machine= {'A': [[1, R, 'B'], [1, L, 'E']],\n",
    "          'B': [[1, R, 'C'], [1, R, 'F']],\n",
    "          'C': [[1, L, 'D'], [0, R, 'B']],\n",
    "          'D': [[1, R, 'E'], [0, L, 'C']],\n",
    "          'E': [[1, L, 'A'], [0, R, 'D']],\n",
    "          'F': [[1, R, 'A'], [1, R, 'C']]}\n",
    "          \n",
    "state = 'A'\n",
    "steps = 12523873\n",
    "\n",
    "tape = defaultdict(int)\n",
    "cursor = 0\n",
    "\n",
    "for step in range(steps):\n",
    "    tape[cursor], move, state = machine[state][tape[cursor]]\n",
    "    cursor += move\n",
    "sum(tape.values())\n",
    "          \n",
    "          "
   ]
  }
 ],
 "metadata": {
  "kernelspec": {
   "display_name": "Python 3",
   "language": "python",
   "name": "python3"
  },
  "language_info": {
   "codemirror_mode": {
    "name": "ipython",
    "version": 3
   },
   "file_extension": ".py",
   "mimetype": "text/x-python",
   "name": "python",
   "nbconvert_exporter": "python",
   "pygments_lexer": "ipython3",
   "version": "3.6.3"
  }
 },
 "nbformat": 4,
 "nbformat_minor": 2
}
